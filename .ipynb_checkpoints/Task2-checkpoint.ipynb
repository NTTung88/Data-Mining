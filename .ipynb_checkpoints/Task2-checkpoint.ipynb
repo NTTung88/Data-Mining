{
 "cells": [
  {
   "cell_type": "markdown",
   "metadata": {
    "id": "LeNTCKnKnN6R"
   },
   "source": [
    "# I.Import Library\n",
    "\n",
    "\n",
    "\n"
   ]
  },
  {
   "cell_type": "code",
   "execution_count": 1,
   "metadata": {
    "colab": {
     "base_uri": "https://localhost:8080/"
    },
    "id": "AN8rgbmrdKJP",
    "outputId": "0c264af1-a2d2-44a0-932f-8f94b25be0c7"
   },
   "outputs": [
    {
     "name": "stdout",
     "output_type": "stream",
     "text": [
      "TensorFlow 1.x selected.\n",
      "Collecting keras==2.2.5\n",
      "  Using cached https://files.pythonhosted.org/packages/f8/ba/2d058dcf1b85b9c212cc58264c98a4a7dd92c989b798823cc5690d062bb2/Keras-2.2.5-py2.py3-none-any.whl\n",
      "Requirement already satisfied: keras-preprocessing>=1.1.0 in /usr/local/lib/python3.7/dist-packages (from keras==2.2.5) (1.1.2)\n",
      "Requirement already satisfied: numpy>=1.9.1 in /usr/local/lib/python3.7/dist-packages (from keras==2.2.5) (1.19.5)\n",
      "Requirement already satisfied: six>=1.9.0 in /usr/local/lib/python3.7/dist-packages (from keras==2.2.5) (1.15.0)\n",
      "Requirement already satisfied: keras-applications>=1.0.8 in /tensorflow-1.15.2/python3.7 (from keras==2.2.5) (1.0.8)\n",
      "Requirement already satisfied: scipy>=0.14 in /usr/local/lib/python3.7/dist-packages (from keras==2.2.5) (1.4.1)\n",
      "Requirement already satisfied: pyyaml in /usr/local/lib/python3.7/dist-packages (from keras==2.2.5) (3.13)\n",
      "Requirement already satisfied: h5py in /usr/local/lib/python3.7/dist-packages (from keras==2.2.5) (2.10.0)\n",
      "Installing collected packages: keras\n",
      "  Found existing installation: Keras 2.4.3\n",
      "    Uninstalling Keras-2.4.3:\n",
      "      Successfully uninstalled Keras-2.4.3\n",
      "Successfully installed keras-2.2.5\n",
      "Requirement already satisfied: pyvi in /usr/local/lib/python3.7/dist-packages (0.1)\n",
      "Requirement already satisfied: scikit-learn in /usr/local/lib/python3.7/dist-packages (from pyvi) (0.22.2.post1)\n",
      "Requirement already satisfied: sklearn-crfsuite in /usr/local/lib/python3.7/dist-packages (from pyvi) (0.3.6)\n",
      "Requirement already satisfied: scipy>=0.17.0 in /usr/local/lib/python3.7/dist-packages (from scikit-learn->pyvi) (1.4.1)\n",
      "Requirement already satisfied: joblib>=0.11 in /usr/local/lib/python3.7/dist-packages (from scikit-learn->pyvi) (1.0.1)\n",
      "Requirement already satisfied: numpy>=1.11.0 in /usr/local/lib/python3.7/dist-packages (from scikit-learn->pyvi) (1.19.5)\n",
      "Requirement already satisfied: tabulate in /usr/local/lib/python3.7/dist-packages (from sklearn-crfsuite->pyvi) (0.8.9)\n",
      "Requirement already satisfied: python-crfsuite>=0.8.3 in /usr/local/lib/python3.7/dist-packages (from sklearn-crfsuite->pyvi) (0.9.7)\n",
      "Requirement already satisfied: six in /usr/local/lib/python3.7/dist-packages (from sklearn-crfsuite->pyvi) (1.15.0)\n",
      "Requirement already satisfied: tqdm>=2.0 in /usr/local/lib/python3.7/dist-packages (from sklearn-crfsuite->pyvi) (4.41.1)\n"
     ]
    },
    {
     "name": "stderr",
     "output_type": "stream",
     "text": [
      "Using TensorFlow backend.\n"
     ]
    }
   ],
   "source": [
    "%tensorflow_version 1.x\n",
    "!pip install keras==2.2.5\n",
    "!pip install pyvi\n",
    "import numpy as np\n",
    "from numpy import random\n",
    "import os, pickle, re, keras, sklearn, string\n",
    "from keras.callbacks import *\n",
    "from keras.preprocessing.text import Tokenizer\n",
    "from keras.preprocessing.sequence import pad_sequences\n",
    "from keras.models import load_model\n",
    "from pyvi import ViTokenizer, ViPosTagger\n",
    "from keras.layers import *\n",
    "from keras.models import Model\n",
    "from keras import optimizers\n",
    "import gensim, operator, json\n",
    "import pandas as pd\n",
    "from sklearn.metrics import *\n",
    "import keras.backend as K\n",
    "from keras.models import *\n",
    "from keras import initializers, regularizers\n",
    "from keras import optimizers\n",
    "from keras.engine.topology import Layer\n",
    "from keras import constraints"
   ]
  },
  {
   "cell_type": "markdown",
   "metadata": {
    "id": "MqqjA5rmnXW9"
   },
   "source": [
    "# II.Read Data"
   ]
  },
  {
   "cell_type": "code",
   "execution_count": 2,
   "metadata": {
    "colab": {
     "base_uri": "https://localhost:8080/"
    },
    "id": "f_QyBjmaFumz",
    "outputId": "1609ab56-0b9e-4b27-cb33-98148f6677de"
   },
   "outputs": [
    {
     "name": "stdout",
     "output_type": "stream",
     "text": [
      "--2021-05-16 14:43:44--  https://thiaisotajppub.s3-ap-northeast-1.amazonaws.com/publicfiles/baomoi.model.bin\n",
      "Resolving thiaisotajppub.s3-ap-northeast-1.amazonaws.com (thiaisotajppub.s3-ap-northeast-1.amazonaws.com)... 52.219.0.191\n",
      "Connecting to thiaisotajppub.s3-ap-northeast-1.amazonaws.com (thiaisotajppub.s3-ap-northeast-1.amazonaws.com)|52.219.0.191|:443... connected.\n",
      "HTTP request sent, awaiting response... 200 OK\n",
      "Length: 708212586 (675M) [application/macbinary]\n",
      "Saving to: ‘baomoi.model.bin.1’\n",
      "\n",
      "baomoi.model.bin.1  100%[===================>] 675.40M  13.3MB/s    in 54s     \n",
      "\n",
      "2021-05-16 14:44:39 (12.6 MB/s) - ‘baomoi.model.bin.1’ saved [708212586/708212586]\n",
      "\n"
     ]
    }
   ],
   "source": [
    "!wget https://thiaisotajppub.s3-ap-northeast-1.amazonaws.com/publicfiles/baomoi.model.bin"
   ]
  },
  {
   "cell_type": "code",
   "execution_count": 3,
   "metadata": {
    "colab": {
     "base_uri": "https://localhost:8080/"
    },
    "id": "L6I-G2B7CwyA",
    "outputId": "1e822284-7915-490a-d5d1-ef0fdb799b0c"
   },
   "outputs": [
    {
     "name": "stdout",
     "output_type": "stream",
     "text": [
      "<zipfile.ZipFile [closed]>\n"
     ]
    }
   ],
   "source": [
    "import zipfile\n",
    "with zipfile.ZipFile(\"UIT-VSMEC.zip\",\"r\") as zf:\n",
    "    zf.extractall()\n",
    "print(zf)"
   ]
  },
  {
   "cell_type": "code",
   "execution_count": 4,
   "metadata": {
    "id": "Rp1-Qa_81FEY"
   },
   "outputs": [],
   "source": [
    "path_train ='data/train_nor_811.csv'\n",
    "path_valid ='data/valid_nor_811.csv'\n",
    "path_test ='data/test_nor_811.csv'\n",
    "path_stopword = 'data/stopwords.txt'"
   ]
  },
  {
   "cell_type": "markdown",
   "metadata": {
    "id": "U3JUFIaAndQo"
   },
   "source": [
    "# III.Word2vec using baomoi.model.bin\n",
    "\n",
    "*   Function reading pretrain word embedding library.\n",
    "*   The word embedding pretrain has been trained in new news, 300-way news\n",
    "\n"
   ]
  },
  {
   "cell_type": "code",
   "execution_count": 5,
   "metadata": {
    "colab": {
     "base_uri": "https://localhost:8080/"
    },
    "id": "Skg7lUZ9LYAn",
    "outputId": "9beb4544-7cd2-47c7-8b02-24e10130c9c9"
   },
   "outputs": [
    {
     "name": "stdout",
     "output_type": "stream",
     "text": [
      "Embedding:  400\n",
      "[-9.12622631e-01  1.72199214e+00 -1.10792592e-01  3.12240601e+00\n",
      " -1.50205016e+00  4.37518209e-01  1.21154338e-01  2.63255763e+00\n",
      " -6.01933718e-01 -2.64876932e-01 -9.11315560e-01 -1.15466583e+00\n",
      "  3.39003134e+00  2.40026188e+00 -3.23409200e-01  5.04067516e+00\n",
      "  9.20965552e-01  5.29640615e-02 -8.14854264e-01  1.78804052e+00\n",
      "  1.27628231e+00  2.06508303e+00 -1.29113960e+00 -1.43529034e+00\n",
      "  1.92192101e+00 -2.37045360e+00 -1.56272209e+00 -4.18518353e+00\n",
      "  1.41242468e+00 -1.39441514e+00 -7.41170347e-01 -1.76952291e+00\n",
      "  1.51742861e-01 -4.30574507e-01 -1.27604693e-01  2.24443972e-01\n",
      " -1.75740540e+00 -3.65949929e-01  5.34610927e-01 -4.80974704e-01\n",
      "  4.78345305e-01 -1.29585254e+00 -2.75319606e-01  1.42199504e+00\n",
      "  7.49688268e-01  5.22309840e-01  1.99277043e+00 -4.45082331e+00\n",
      " -2.30180287e+00 -1.61407888e+00 -3.34186345e-01 -6.85954988e-01\n",
      " -1.43539476e+00  1.62839472e-01 -1.77131081e+00  6.11320853e-01\n",
      "  5.87868333e-01  1.77414227e+00  1.75058484e+00  9.41861749e-01\n",
      "  3.13689709e-01  1.58806300e+00 -1.65440500e+00  4.52660024e-01\n",
      "  3.41168070e+00  1.30694354e+00  1.95474058e-01  9.31915522e-01\n",
      " -2.54360104e+00 -8.11486900e-01 -1.51378989e+00  1.59761214e+00\n",
      "  1.55062449e+00  3.07935882e+00 -1.11482608e+00 -1.19077229e+00\n",
      "  9.69950408e-02  1.45966458e+00  8.27272236e-02 -3.07610321e+00\n",
      "  1.34640193e+00  4.20499086e+00 -2.16511011e+00  2.49080491e+00\n",
      "  2.19526005e+00 -2.72844768e+00 -9.35535848e-01  2.63646865e+00\n",
      " -4.85645682e-01  2.15955496e-01  1.27776146e+00 -1.67590094e+00\n",
      "  2.79916024e+00 -3.85802269e+00  1.72183537e+00 -4.87028807e-01\n",
      " -6.96770787e-01 -3.15399647e-01 -8.57659876e-01  8.14377427e-01\n",
      "  1.17506409e+00 -1.53272367e+00  1.46425760e+00  6.34291887e-01\n",
      " -1.60849547e+00  7.43160605e-01 -2.30421424e+00 -6.85091436e-01\n",
      " -2.84614778e+00  2.31084204e+00 -3.94302398e-01  2.63941418e-02\n",
      " -1.69811046e+00  1.01797271e+00 -1.92843306e+00 -1.79097092e+00\n",
      " -7.40033090e-01  4.94446576e-01  1.20842135e+00 -2.71680295e-01\n",
      "  4.27601910e+00 -2.61614609e+00 -8.71143956e-03  1.38231170e+00\n",
      " -3.80978249e-02 -1.57149360e-01  1.06021547e+00 -1.12307096e+00\n",
      "  9.58288610e-01 -2.02834427e-01 -3.00556332e-01  1.73504257e+00\n",
      " -1.01680115e-01 -9.06614140e-02  6.12666570e-02  1.67563394e-01\n",
      "  2.58534431e+00 -2.13350725e+00 -3.90105397e-01  7.06722379e-01\n",
      "  4.30334508e-01  1.30781889e+00  2.02500415e+00  3.12791109e-01\n",
      "  1.69982398e+00 -8.34398031e-01  7.87602901e-01  7.89788812e-02\n",
      " -1.82262206e+00  8.80509436e-01  2.07324624e+00  1.61900949e+00\n",
      "  2.93816495e+00  1.13260651e+00  3.35078031e-01 -4.04998302e+00\n",
      " -4.74894822e-01 -3.30695897e-01 -2.26543292e-01 -2.91115451e+00\n",
      " -1.63072467e-01  1.97398996e+00 -2.66225481e+00 -1.36288667e+00\n",
      "  4.36871338e+00 -1.70731819e+00  9.96543169e-02 -1.88265383e+00\n",
      "  5.37318587e-01 -4.81168568e-01 -2.12721848e+00 -1.67205310e+00\n",
      "  1.95586002e+00  2.35104990e+00 -2.84994888e+00  3.85896653e-01\n",
      " -5.79216182e-01  1.04841709e-01 -1.93023574e+00  1.94312871e+00\n",
      " -4.16729599e-01 -1.26936805e+00  1.22382164e+00  3.10078830e-01\n",
      "  1.45877793e-01 -3.79314327e+00  1.72028124e+00 -3.20657551e-01\n",
      "  4.21177149e-01  2.20186234e-01  1.21344352e+00  5.47445156e-02\n",
      "  6.39303982e-01  1.39413261e+00  1.29285598e+00  1.27932250e+00\n",
      "  1.13317120e+00  8.40181589e-01  8.15248311e-01  1.43393528e+00\n",
      "  7.68984973e-01 -2.77417755e+00 -1.82437718e+00 -1.80132675e+00\n",
      "  8.23923945e-01 -5.88963553e-02 -4.51952159e-01  1.85284209e+00\n",
      " -2.37997957e-02  2.58863664e+00 -9.49443877e-01 -4.78207499e-01\n",
      " -2.68144917e+00 -4.76535177e+00  1.20772505e+00 -1.70894945e+00\n",
      "  3.55414867e+00  1.34539053e-01 -2.29950476e+00  2.11619115e+00\n",
      " -1.17820549e+00  1.75781572e+00  8.61684680e-01  6.41216874e-01\n",
      " -6.47496104e-01 -4.17087615e-01  4.06051970e+00 -3.02411586e-01\n",
      " -1.93579227e-01 -2.78176260e+00  2.94525713e-01  1.33988631e+00\n",
      "  3.12028229e-01 -2.53869176e+00  3.67756754e-01  3.72924447e+00\n",
      "  8.37555885e-01 -1.14169157e+00 -1.83821833e+00  6.14236653e-01\n",
      " -8.62557590e-02  2.80605102e+00  9.71584022e-02 -2.81885356e-01\n",
      " -2.14214969e+00  6.84550643e-01  5.44443965e-01  1.30140698e+00\n",
      "  5.98867953e-01 -2.79278421e+00 -1.51627696e+00  3.97782898e+00\n",
      "  8.38593066e-01  1.64954066e-01  6.44770205e-01  3.32214326e-01\n",
      " -3.16129851e+00 -1.72147751e+00  9.88653362e-01 -4.21857786e+00\n",
      "  9.97644663e-01  6.12247130e-03 -2.27723169e+00  8.88582051e-01\n",
      " -1.89001966e+00 -2.04981852e+00 -3.59618127e-01  1.42803073e+00\n",
      "  2.90593386e+00  3.63860577e-01 -1.09272683e+00 -3.97254199e-01\n",
      " -9.70192254e-01  1.13897073e+00  5.28334975e-01  1.13325453e+00\n",
      " -6.77733958e-01 -1.72210681e+00 -1.15681386e+00 -3.70753855e-01\n",
      "  4.84987736e-01 -3.09417820e+00 -4.37158728e+00  1.96617234e+00\n",
      "  3.14737946e-01 -1.86911976e+00  1.02156866e+00  2.38153315e+00\n",
      " -1.17310250e+00 -5.68757415e-01 -9.41654861e-01 -2.08653808e+00\n",
      " -8.11468363e-01  1.17387092e+00  4.29781526e-01 -1.39458609e+00\n",
      " -1.02833712e+00 -6.59079134e-01 -1.94035637e+00 -2.31235290e+00\n",
      " -1.66767454e+00  8.46073985e-01 -1.32647908e+00 -1.26234245e+00\n",
      " -2.55809021e+00 -1.16691196e+00  1.83729064e+00 -2.34233737e-01\n",
      "  6.24179423e-01  4.33507234e-01 -2.11475730e+00 -2.68838823e-01\n",
      " -2.97523707e-01  1.45941722e+00  4.45563942e-01  5.20020008e+00\n",
      "  6.23189807e-01 -3.19923902e+00 -1.93778610e+00 -2.66046859e-02\n",
      "  6.28340244e-01 -6.36046946e-01  4.83437628e-01 -1.17696071e+00\n",
      " -3.88440919e+00 -2.05716515e+00  1.38316071e+00 -1.81284952e+00\n",
      "  2.43487626e-01 -1.04057300e+00 -1.76179647e+00  2.19146919e+00\n",
      " -5.10959387e-01 -2.38647938e+00  1.98654485e+00 -1.35783839e+00\n",
      "  1.40766847e+00  1.93474722e+00 -8.72089863e-01 -4.94023561e+00\n",
      " -1.20424128e+00 -8.58616829e-01 -2.22303495e-01  1.67639124e+00\n",
      " -1.98306489e+00 -3.94427359e-01 -5.87373793e-01  3.90246660e-01\n",
      "  1.09498394e+00 -1.46155703e+00 -4.76943552e-01 -3.96430016e-01\n",
      "  2.89364219e+00 -1.26459479e-01  9.09376442e-01  3.62305307e+00\n",
      "  5.73830903e-01  2.15569568e+00  5.38770139e-01  3.08458991e-02\n",
      " -5.14926374e-01 -5.77214777e-01 -3.87074327e+00  5.81888616e-01\n",
      " -1.22523658e-01  2.05764547e-01 -1.12113500e+00 -3.69713336e-01\n",
      "  1.23715341e-01  4.96660948e-01 -4.25319195e+00 -5.90017617e-01\n",
      "  1.04740381e+00  6.98288023e-01  1.68808237e-01  6.27477586e-01\n",
      "  7.54356503e-01 -1.21139777e+00  8.27077270e-01  1.60284221e+00\n",
      " -1.53533563e-01 -1.86907935e+00  4.51414883e-01  2.76998758e+00\n",
      " -2.17641544e+00  6.68206334e-01  1.00955620e-01  4.42650032e+00\n",
      "  3.25928211e-01 -3.19808386e-02 -1.94244564e+00  1.48595667e+00\n",
      " -2.01434731e+00  3.86054850e+00 -1.19111933e-01 -4.53983108e-03\n",
      " -4.29345489e-01 -2.12638879e+00  2.35096002e+00 -1.57123834e-01]\n"
     ]
    }
   ],
   "source": [
    "path_embedding= 'baomoi.model.bin'\n",
    "import io\n",
    "from gensim.models import KeyedVectors\n",
    "word_embedding = KeyedVectors.load_word2vec_format(path_embedding, binary=True)\n",
    "EMBEDDING_DIM = word_embedding['buồn'].shape[0]\n",
    "print(\"Embedding: \",EMBEDDING_DIM)\n",
    "print(word_embedding['buồn'])"
   ]
  },
  {
   "cell_type": "markdown",
   "metadata": {
    "id": "lo7k112MoVAQ"
   },
   "source": [
    "# IV. Data Preprocessing"
   ]
  },
  {
   "cell_type": "code",
   "execution_count": 6,
   "metadata": {
    "id": "MWTniSb1o0d9"
   },
   "outputs": [],
   "source": [
    "def tokenizer(text):\n",
    "    token = ViTokenizer.tokenize(text)\n",
    "    return token"
   ]
  },
  {
   "cell_type": "code",
   "execution_count": 7,
   "metadata": {
    "id": "VCchYWSMo9y5"
   },
   "outputs": [],
   "source": [
    "def deleteIcon(text):\n",
    "    text = text.lower()\n",
    "    s = ''\n",
    "    pattern = r\"[a-zA-ZaăâbcdđeêghiklmnoôơpqrstuưvxyàằầbcdđèềghìklmnòồờpqrstùừvxỳáắấbcdđéếghíklmnóốớpqrstúứvxýảẳẩbcdđẻểghỉklmnỏổởpqrstủửvxỷạặậbcdđẹệghịklmnọộợpqrstụựvxỵãẵẫbcdđẽễghĩklmnõỗỡpqrstũữvxỹAĂÂBCDĐEÊGHIKLMNOÔƠPQRSTUƯVXYÀẰẦBCDĐÈỀGHÌKLMNÒỒỜPQRSTÙỪVXỲÁẮẤBCDĐÉẾGHÍKLMNÓỐỚPQRSTÚỨVXÝẠẶẬBCDĐẸỆGHỊKLMNỌỘỢPQRSTỤỰVXỴẢẲẨBCDĐẺỂGHỈKLMNỎỔỞPQRSTỦỬVXỶÃẴẪBCDĐẼỄGHĨKLMNÕỖỠPQRSTŨỮVXỸ,._]\"\n",
    "    for char in text:\n",
    "        if char !=' ':\n",
    "            if len(re.findall(pattern, char)) != 0:\n",
    "                s+=char\n",
    "            elif char == '_':\n",
    "                s+=char\n",
    "        else:\n",
    "            s+=char\n",
    "    s = re.sub('\\\\s+',' ',s)\n",
    "    return s.strip()"
   ]
  },
  {
   "cell_type": "code",
   "execution_count": 8,
   "metadata": {
    "id": "L1_TFsm9WdA0"
   },
   "outputs": [],
   "source": [
    "def clean_doc(doc):\n",
    "    doc = tokenizer(doc)\n",
    "    for punc in string.punctuation:\n",
    "        if punc != \"_\":\n",
    "            doc = doc.replace(punc,' ')\n",
    "    doc = deleteIcon(doc) \n",
    "    doc = re.sub(r\"[0-9]+\", \" num \", doc)\n",
    "    doc = doc.lower()\n",
    "    doc = re.sub('\\\\s+',' ',doc)\n",
    "    return doc"
   ]
  },
  {
   "cell_type": "code",
   "execution_count": 9,
   "metadata": {
    "id": "hPeiHFV2vRMY"
   },
   "outputs": [],
   "source": [
    "\n",
    "def pre_process(questions):\n",
    "    stop_words = stopwords.words(\"english\")\n",
    "    questions_stop = [[t for t in tokens if (t not in stop_words) and (3 < len(t.strip()) < 15)]\n",
    "                      for tokens in questions_tokens]\n",
    "    questions_stop = pd.Series(questions_stop)\n",
    "    return questions_stop"
   ]
  },
  {
   "cell_type": "markdown",
   "metadata": {
    "id": "UmCkYJpypwlS"
   },
   "source": [
    "# V.Train/Test data"
   ]
  },
  {
   "cell_type": "code",
   "execution_count": 10,
   "metadata": {
    "id": "Usy-4ygPWdA2"
   },
   "outputs": [],
   "source": [
    "train_data = pd.read_csv(path_train)\n",
    "valid_data = pd.read_csv(path_valid)\n",
    "test_data = pd.read_csv(path_test)\n",
    "\n",
    "X_train = train_data[\"Sentence\"].apply(lambda x : clean_doc(x))\n",
    "y_train = train_data[\"Emotion\"]\n",
    "\n",
    "X_val = valid_data[\"Sentence\"].apply(lambda x : clean_doc(x))\n",
    "y_val = valid_data[\"Emotion\"]\n",
    "\n",
    "X_test = test_data[\"Sentence\"].apply(lambda x : clean_doc(x))\n",
    "y_test = test_data[\"Emotion\"]"
   ]
  },
  {
   "cell_type": "code",
   "execution_count": 11,
   "metadata": {
    "colab": {
     "base_uri": "https://localhost:8080/"
    },
    "id": "GnYcGTbL0jnu",
    "outputId": "3585c671-01ed-4fe7-c5ce-ca9f1958c38e"
   },
   "outputs": [
    {
     "name": "stdout",
     "output_type": "stream",
     "text": [
      "5548 5548\n",
      "686 686\n",
      "693 693\n"
     ]
    }
   ],
   "source": [
    "print(len(X_train),len(y_train))\n",
    "print(len(X_val),len(y_val))\n",
    "print(len(X_test),len(y_test))\n"
   ]
  },
  {
   "cell_type": "code",
   "execution_count": 12,
   "metadata": {
    "id": "fyIQeZi-WdA4"
   },
   "outputs": [],
   "source": [
    "classes = ['Anger','Disgust','Enjoyment','Fear','Other','Sadness','Surprise']\n",
    "def to_category_vector(label):\n",
    "    vector = np.zeros(len(classes)).astype(np.float64)\n",
    "    index = classes.index(label)\n",
    "    vector[index] = 1.0\n",
    "    return vector"
   ]
  },
  {
   "cell_type": "code",
   "execution_count": 13,
   "metadata": {
    "colab": {
     "base_uri": "https://localhost:8080/"
    },
    "id": "fqYyTPmLWdA_",
    "outputId": "71410a04-4b60-4dd4-ab65-94fd51d0f29b"
   },
   "outputs": [
    {
     "name": "stdout",
     "output_type": "stream",
     "text": [
      "['Anger', 'Disgust', 'Enjoyment', 'Fear', 'Other', 'Sadness', 'Surprise']\n",
      "[0. 0. 0. 0. 1. 0. 0.]\n",
      "Other\n"
     ]
    }
   ],
   "source": [
    "y_train_encode = []\n",
    "for label in y_train:\n",
    "    y_train_encode.append(to_category_vector(label))\n",
    "\n",
    "\n",
    "y_val_encode = []\n",
    "for label in y_val:\n",
    "    y_val_encode.append(to_category_vector(label))\n",
    "\n",
    "print(classes)\n",
    "print(y_train_encode[0])\n",
    "print(y_train[0])"
   ]
  },
  {
   "cell_type": "markdown",
   "metadata": {
    "id": "hK6nyuqOq171"
   },
   "source": [
    "## LSTM\n",
    "\n",
    "\n",
    "*   All the words in the X_train set will form a dictionary\n",
    "*   Each vector of the input word, it will turn into a vector with a fixed number of dimensions and each vocabulary will be replaced by its index in the dictionary\n",
    "* Number of vector dimensions per input we will take the longest sentence which is the direction of the vector and the shorter arcs will automatically add the value 0 after"
   ]
  },
  {
   "cell_type": "code",
   "execution_count": 14,
   "metadata": {
    "colab": {
     "base_uri": "https://localhost:8080/"
    },
    "id": "0EB_NYPlWdBC",
    "outputId": "85dcf425-d15c-44af-9cf3-c47781153ff9"
   },
   "outputs": [
    {
     "name": "stdout",
     "output_type": "stream",
     "text": [
      "The longest sentence length value:  134\n",
      "input_vocab_size: 6135\n"
     ]
    }
   ],
   "source": [
    "xLengths = [len(x.split(' ')) for x in X_train]\n",
    "h = sorted(xLengths)  #sorted lengths\n",
    "maxLength =h[len(h)-1]\n",
    "print(\"The longest sentence length value: \",maxLength)\n",
    "input_tokenizer = Tokenizer(filters=\"\",oov_token=\"UNK\")\n",
    "input_tokenizer.fit_on_texts(X_train)\n",
    "input_vocab_size = len(input_tokenizer.word_index) + 1\n",
    "word_index = input_tokenizer.word_index\n",
    "print(\"input_vocab_size:\",input_vocab_size)\n",
    "X_train_encode = np.array(pad_sequences(input_tokenizer.texts_to_sequences(X_train), maxlen=maxLength,padding=\"post\"))"
   ]
  },
  {
   "cell_type": "code",
   "execution_count": 15,
   "metadata": {
    "colab": {
     "base_uri": "https://localhost:8080/"
    },
    "id": "KxIekrnfrfBg",
    "outputId": "df10c091-3455-4540-98d9-25da29e4026d"
   },
   "outputs": [
    {
     "name": "stdout",
     "output_type": "stream",
     "text": [
      "Input String :  cho mình xin bài nhạc tên là gì với ạ\n",
      "Encode :  [ 13  23 292 166 417 372   4  17  47 182   0   0   0   0   0   0   0   0\n",
      "   0   0   0   0   0   0   0   0   0   0   0   0   0   0   0   0   0   0\n",
      "   0   0   0   0   0   0   0   0   0   0   0   0   0   0   0   0   0   0\n",
      "   0   0   0   0   0   0   0   0   0   0   0   0   0   0   0   0   0   0\n",
      "   0   0   0   0   0   0   0   0   0   0   0   0   0   0   0   0   0   0\n",
      "   0   0   0   0   0   0   0   0   0   0   0   0   0   0   0   0   0   0\n",
      "   0   0   0   0   0   0   0   0   0   0   0   0   0   0   0   0   0   0\n",
      "   0   0   0   0   0   0   0   0]\n"
     ]
    }
   ],
   "source": [
    "print(\"Input String : \", X_train[0])\n",
    "print(\"Encode : \",X_train_encode[0])\n",
    "\n",
    "X_val_encode = np.array(pad_sequences(input_tokenizer.texts_to_sequences(X_val), maxlen=maxLength,padding=\"post\"))"
   ]
  },
  {
   "cell_type": "code",
   "execution_count": 16,
   "metadata": {
    "id": "Td-ML6bqWdBE"
   },
   "outputs": [],
   "source": [
    "def generate_embedding(word_index, model_embedding,EMBEDDING_DIM):\n",
    "    count6 = 0\n",
    "    countNot6 = 0\n",
    "    #embedding_matrix = np.zeros((len(word_index) + 1, EMBEDDING_DIM)) \n",
    "    embedding_matrix = np.asarray([np.random.uniform(-0.01,0.01,EMBEDDING_DIM) for _ in range((len(word_index) + 1))])\n",
    "    list_oov = []\n",
    "    word_is_trained = []\n",
    "    for word, i in word_index.items():\n",
    "        try:\n",
    "            embedding_vector = model_embedding[word]\n",
    "            word_is_trained.append(word)\n",
    "        except:\n",
    "            continue\n",
    "        if embedding_vector is not None:\n",
    "            count6 +=1\n",
    "            embedding_matrix[i] = embedding_vector\n",
    "    \n",
    "    print('Number of words in pre-train embedding: ' + str(count6))\n",
    "    print('Number of words not in pre-train embedding: ' + str(countNot6))\n",
    "    return embedding_matrix,word_is_trained"
   ]
  },
  {
   "cell_type": "code",
   "execution_count": 17,
   "metadata": {
    "colab": {
     "base_uri": "https://localhost:8080/"
    },
    "id": "HRIghLqMBuhV",
    "outputId": "e513814d-a5a2-4a63-8e91-257849c681f5"
   },
   "outputs": [
    {
     "name": "stdout",
     "output_type": "stream",
     "text": [
      "Number of words in pre-train embedding: 5647\n",
      "Number of words not in pre-train embedding: 0\n",
      "['không', 'tao', 'là', 'có', 'mà', 'này', 'nó', 'đi', 'thì', 'rồi', 'cái', 'cho', 'per', 'được', 'cũng', 'gì', 'con', 'quá', 'người', 'lại', 'như', 'mình', 'làm', 'còn', 'của', 'mày', 'ra', 'thấy', 'phải', 'mấy', 'vãi', 'thôi', 'em', 'nào', 'và', 'đó', 'anh', 'để', 'luôn', 'đã', 'thế', 'chứ', 'nhìn', 'đéo', 'hay', 'với', 'bạn', 'biết', 'bị', 'sao', 'nhưng', 'cả', 'thằng', 'chỉ', 'thật', 'đâu', 'xem', 'ai', 'mới', 'nhà', 'nữa', 'vậy', 'khi', 'mẹ', 'nói', 'vào', 'lắm', 'ăn', 'lên', 'sợ', 'về', 'vẫn', 'đến', 'một', 'chưa', 'nhiều', 'lần', 'hết', 'ở', 'hơn', 'yêu', 'năm', 'sẽ', 'ngày', 'tôi', 'muốn', 'đấy', 'nên', 'các', 'xong', 'phim', 'trong', 'cười', 'đây', 'những', 'vì', 'cứ', 'đúng', 'đứa', 'nhỉ', 'ông', 'thích', 'giờ', 'lúc', 'mặt', 'nhau', 'ấy', 'nhớ', 'à', 'tiền', 'đáng', 'nhất', 'chắc', 'gặp', 'đang', 'nhé', 'từ', 'học', 'bọn', 'mất', 'đừng', 'nghe', 'chó', 'chết', 'rất', 'khác', 'bố', 'buồn', 'sau', 'bà', 'v', 'cần', 'đẹp', 'kiểu', 'trước', 'vừa', 'bé', 'xe', 'mua', 'toàn', 'ngu', 'qua', 'đầu', 'nghĩ', 'chạy', 'tới', 'lấy', 'vợ', 'chả', 'mỗi', 'chơi', 'coi', 'hồi', 'đời', 'hiểu', 'người_yêu', 'đường', 'tốt', 'bao_giờ', 'nhỏ', 'lol', 'họ', 'bài', 'ngồi', 'giống', 'thứ', 't', 'vui', 'bỏ', 'chị', 'kia', 'nay', 'lũ', 'đọc', 'nè', 'gái', 'cô', 'bán', 'ạ', 'ơi', 'video', 'trời', 'lớp', 'hỏi', 'bắt', 'khóc', 'nuôi', 'ghê', 'tin', 'nếu', 'má', 'bằng', 'chửi', 'ta', 'bảo', 'có_thể', 'sai', 'tay', 'mọi', 'chuyện', 'đỗ', 'sống', 'quay', 'huhu', 'cơm', 'haha', 'thương', 'câu', 'tội', 'từng', 'đau', 'trên', 'lòng', 'ngay', 'cưng', 'bộ', 'gọi', 'dễ_thương', 'nấu', 'nha', 'nước', 'theo', 'xuống', 'thêm', 'thế_nào', 'chỗ', 'con_trai', 'bác', 'bên', 'hạnh_phúc', 'cùng', 'tình_yêu', 'phát', 'lớn', 'cây', 'con_gái', 'đánh', 'nam', 'mong', 'phạt', 'con_mẹ', 'hôm', 'ngủ', 'tưởng', 'đồ', 'quan_trọng', 'mắt', 'đm', 'ngày_xưa', 'dí', 'nói_chuyện', 'chúng_mày', 'ý', 'cắt', 'cao', 'quả', 'c', 'tiếng', 'chân', 'ba', 'thời', 'chán', 'việc', 'câu_chuyện', 'chẳng', 'ngáo', 'bây_giờ', 'tụi', 'cuối', 'cách', 'giận', 'hả', 'chúng_nó', 'đoạn', 'tháng', 'sự', 'việt', 'nhanh', 'như_vậy', 'đủ', 'tóc', 'dám', 'trai', 'nhận', 'nổi', 'lâu', 'phòng', 'xin', 'trẻ', 'mèo', 'mưa', 'xinh', 'gần', 'ngoài', 'cụ', 'ngỗng', 'ghét', 'càng', 'vô', 'k', 'crush', 'não', 'nhện', 'đồng_nghiệp', 'bếp', 'bình_luận', 'chụp', 'chồng', 'giết', 'dân', 'loại', 'gia_đình', 'hãy', 'điều', 'ma', 'mệt', 'tự', 'vài', 'ý_thức', 'ngon', 'khó', 'kết', 'chuẩn', 'đều', 'thiệt', 'tuổi', 'chịu', 'tr', 'viết', 'tính', 'khổ', 'bao_nhiêu', 'n', 'tuổi_thơ', 'chi', 'già', 'dọn', 'hai', 'xấu', 'cuộc_sống', 'ôi', 'chủ', 'kêu', 'đứng', 'thi', 'mồm', 'hàng', 'dù', 'cảm_giác', 'á', 'xem_lại', 'tìm', 'dùng', 'thế_là', 'to', 'chúng_ta', 'thế_giới', 'ảnh', 'tình', 'nhảy', 'mắc', 'tất_cả', 'tiếc', 'trông', 'nơi', 'mai', 'hơi', 'tên', 'quen', 'bánh', 'điên', 'ý_nghĩa', 'kkk', 'sấp_mặt', 'đưa', 'sớm', 'cắn', 'quan_tâm', 'mãi', 'thành', 'không_thể', 'kể', 'đăng', 'dễ', 'tí', 'giọng', 'cảm_thấy', 'vàng', 'đỡ', 'thề', 'hãm', 'quên', 'tù', 'giỏi', 'dậy', 'tập', 'mất_dạy', 'quần', 'nguy_hiểm', 'nỗi', 'lo', 'thịt', 'ông_bà', 'chính', 'mang', 'con_người', 'may', 'sang', 'đổ', 'chúc', 'trả', 'chia_tay', 'nhạc', 'công_nhận', 'chọn', 'đẹp_trai', 'đem', 'cơ', 'cảm_ơn', 'lông', 'nằm', 'xa', 'đuổi', 'đàn_ông', 'điện', 'tim', 'cảnh', 'móng', 'bình_thường', 'ỉa', 'trường', 'ám_ảnh', 'cuộc_đời', 'cháu', 'dài', 'ước', 'lun', 'khỏi', 'quán', 'cấp', 'tại', 'chú', 'tại_sao', 'sáng', 'dạy', 'bữa', 'buồn_cười', 'y', 'cậu', 'mặc', 'bẩn', 'dưới', 'chút', 'do', 'nước_mắt', 'bản_thân', 'lời', 'hiền', 'suốt', 'đập', 'bố_mẹ', 'nhờ', 'vị', 'đau_lòng', 'chờ', 'la', 'cầm', 'xã_hội', 'thử', 'đợi', 'sau_này', 'đùa', 'rớt', 'cha', 'làm_sao', 'phí', 'điện_thoại', 'tối', 'quỳ', 'uống', 'cầu', 'kìa', 'đôi', 'trâu', 'cuối_cùng', 'ủa', 'ko', 'dầu', 'ảo_tưởng', 'lỡ', 'cấm', 'bệnh', 'ít', 'chị_em', 'ác', 'diễn', 'xưa', 'vậy_mà', 'đen', 'đá', 'thanh_niên', 'ngang', 'hàng_xóm', 'chất', 'vụ', 'thớt', 'hôm_nay', 'trung_thu', 'dm', 'khá', 'đốt', 'tàu', 'thời_gian', 'trừ', 'triệu', 'đóng', 'hẳn', 'thật_sự', 'thả', 'rơi', 'phê', 'tai', 'chung', 'lợn', 'hình_như', 'gym', 'bao', 'sinh', 'bay', 'thiếu', 'bất_hạnh', 'bây', 'giúp', 'kiếm', 'cố', 'cực', 'ôm', 'niềm', 'tuần', 'ah', 'quyền', 'tuyệt_vời', 'công', 'học_sinh', 'hát', 'ế', 'ổng', 'đất_nước', 'giữ', 'cưới', 'vẽ', 'ngắn', 'áo', 'đất', 'sắp', 'thua', 'chục', 'chữ', 'hoặc', 'thân', 'điểm', 'ơ', 'đòi', 'thay', 'béo', 'ngọt', 'tâm', 'đêm', 'đầy', 'boss', 'gà', 'chủ_tịch', 'té', 'khốn_nạn', 'kiếp', 'hihi', 'tớ', 'hành_động', 'đặt', 'bàn', 'đậu', 'đông', 'hình', 'chiều', 'nhá', 'gấu', 'cạnh', 'kinh', 'xin_lỗi', 'tầm', 'thèm', 'vui_vẻ', 'óc', 'cơ_mà', 'mạnh', 'sông', 'làm_việc', 'i', 'tạo', 'trăm', 'thấp', 'cứng', 'nghề', 'đẻ', 'yêu_thương', 'nhắn_tin', 'khách', 'trượt', 'cổ', 'giả', 'độ', 'rút', 'nóng', 'nhẹ', 'đơn_giản', 'tết', 'quê', 'chia', 'may_mắn', 'gửi', 'lương', 'phết', 'tài', 'cha_mẹ', 'tây', 'sữa', 'tán', 'giàu', 'thu', 'tỏ', 'cay', 'nhạt', 'tặng', 'liền', 'tuy', 'yên', 'hoa', 'răng', 'nữ', 'nghỉ', 'khúc', 'hài', 'kiến', 'giá', 'rượt', 'gây', 'lạ', 'bớt', 'cháy', 'kém', 'biển', 'dăm_ba', 'ngã', 'số', 'ngành', 'thầy', 'admin', 'bồ', 'định', 'dừng', 'nguyên', 'cố_gắng', 'tỉnh', 'mụ', 'cẩn_thận', 'đầu_tiên', 'mở', 'lúc_nào', 'giáo_dục', 'kinh_dị', 'bước', 'cô_đơn', 'dạo', 'bình', 'trái', 'bò', 'anh_em', 'tự_nhiên', 'giữa', 'lỗi', 'xử', 'tương_lai', 'trách', 'vỡ', 'tức', 'cứt', '_', 'nhắn', 'co', 'cơ_hội', 'họp', 'hôn', 'màu', 'ư', 'nắng', 'hại', 'thảo', 'mông', 'trò', 'dữ', 'liên_quan', 'vả', 'rác', 'thế_mà', 'hoài', 'sừng', 'thanh_xuân', 'lừa_đảo', 'súc_vật', 'sạch', 'lò', 'z', 'nhìu', 'nội', 'mạng', 'xàm', 'mùa', 'kết_hôn', 'bụng', 'xài', 'tụt', 'mát', 'công_an', 'bắn', 'trêu', 'báo', 'tha', 'cute', 'thể_loại', 'bất_ngờ', 'bắt_đầu', 'đỉnh', 'nghiệp', 'dành', 'quay_phim', 'gớm', 'kệ', 'chọc', 'giảm', 'chắc_chắn', 'pháp', 'cặp', 'ho', 'xác_định', 'đền', 's', 'chế', 'miệng', 'kem', 'ngoại', 'ghi', 'luật', 'chàng', 'buổi', 'suy_nghĩ', 'mối', 'kaka', 'phá', 'màn_hình', 'người_lớn', 'hic', 'váy', 'cuộc', 'cục', 'cô_giáo', 'phường', 'dân_trí', 'bắc', 'cảm_xúc', 'trà', 'kinh_nghiệm', 'nhầm', 'thế_thì', 'm', 'mũ', 'tận', 'í', 'chim', 'trốn', 'hỏng', 'đống', 'mức', 'vẻ', 'phần', 'so', 'sân', 'rắn', 'mổ', 'động_lực', 'việt_nam', 'nv', 'cổ_tích', 'chớ', 'phụ_huynh', 'nghiệt', 'xạo', 'đĩ', 'hòa', 'kéo', 'nặng', 'ghép', 'cu', 'p', 'sướng', 'bác_sĩ', 'haizz', 'riêng', 'mọc', 'nghèo', 'mê', 'kịp', 'tỏ_tình', 'thật_ra', 'đồng', 'ha', 'vứt', 'game', 'miếng', 'mừng', 'ô', 'khôn', 'thần_kinh', 'vỉa_hè', 'rõ', 'hix', 'no', 'giải_quyết', 'ca', 'tốt_đẹp', 'nói_chung', 'có_lẽ', 'khổ_thân', 'nghi', 'mặn', 'xô', 'đụ', 'lao_động', 'tag', 'nhổ', 'nhẹ_nhàng', 'tởm', 'bả', 'nợ', 'thường', 'quảng_cáo', 'thú_vị', 'viện', 'hi_vọng', 'hú_hồn', 'thâm', 'đái', 'khiếp', 'nhể', 'cảm_động', 'chê', 'nà', 'tổn_thương', 'chúc_mừng', 'giật_mình', 'ai_ngờ', 'auto', 'd', 'phục_vụ', 'tệ', 'tránh', 'mơ', 'sếp', 'ly', 'tát', 'ngầu', 'nồi', 'rộng', 'bắt_nạt', 'lười', 'tấm', 'tuổi_trẻ', 'hết_hồn', 'ấm', 'h', 'mùi', 'đấm', 'tiếp', 'heo', 'b', 'đội', 'lái', 'thông_minh', 'sinh_nhật', 'ban', 'thay_đổi', 'kẻ', 'tồn_tại', 'ấn', 'da', 'chua', 'thể', 'xây', 'cửa', 'năm_ngoái', 'quyết_định', 'cục_súc', 'ổn', 'quỷ', 'u', 'vấn_đề', 'cá_nhân', 'cửa_nhà', 'áp_lực', 'tỷ', 'canh', 'bảo_vệ', 'fan', 'vkl', 'dỗ', 'rạp', 'phút', 'lỗ', 'cứu', 'thành_công', 'hút', 'xuất_hiện', 'đám', 'chuẩn_bị', 'a', 'áp_dụng', 'tắt', 'xả', 'lưng', 'ngôn', 'nhà_nước', 'đít', 'cân', 'gậy', 'ham', 'nước_ngoài', 'vl', 'ước_mơ', 'mập', 'con_cháu', 'trở_nên', 'dcm', 'đối_với', 'ảnh_hưởng', 'vâng', 'vn', 'lửa', 'rằng', 'mãi_mãi', 'nuốt', 'giải_trí', 'chời', 'nhắc', 'tuyệt', 'lão', 'đại_học', 'khó_khăn', 'o', 'đắng', 'đạp', 'múi', 'thính', 'như_vầy', 'sờ', 'thuộc', 'hôm_qua', 'vớ_vẩn', 'bởi', 'giấy', 'mi', 'đằng', 'rụng', 'món', 'động', 'hài_hước', 'chúng_tôi', 'đồng_tiền', 'thất_tình', 'phẫn_nộ', 'minh', 'củ', 'phụ_nữ', 'xảy', 'oto', 'chiếc', 'thải', 'cao_su', 'nướng', 'hahaha', 'thực_tế', 'hộp', 'quà', 'tử_hình', 'tình_cảm', 'mất_công', 'vô_duyên', 'bông', 'hy_vọng', 'cãi', 'đa', 'trung', 'xếp', 'karaoke', 'chấp_nhận', 'chuột', 'huyền_thoại', 'trẻ_con', 'tỉ', 'xác', 'hình_ảnh', 'bướng', 'hành_tinh', 'giá_trị', 'rủ', 'cắm', 'lùn', 'cờ', 'hấp_dẫn', 'si', 'xíu', 'cức', 'lạc', 'chợ', 'giày', 'pháp_luật', 'tăng', 'văn', 'mặc_dù', 'rõ_ràng', 'dã_man', 'lầy', 'chấm', 'đại', 'bóng', 'page', 'dẹp', 'máy', 'chăm_sóc', 'góc', 'bể', 'hóng', 'cua', 'nhân_tính', 'dính', 'hội', 'gió', 'bỏ_mẹ', 'gấp', 'thiên_hạ', 'tè', 'ngưỡng_mộ', 'đàn_bà', 'zai', 'sóng', 'làng', 'dòng', 'giật', 'ngắm', 'lịch_sự', 'hư', 'chép', 'dỗi', 'facebook', 'lừa', 'kính', 'hành', 'ly_hôn', 'tham', 'quá_khứ', 'giả_vờ', 'mệt_mỏi', 'đến_nỗi', 'đôi_khi', 'tn', 'cột', 'thuê', 'em_gái', 'chúng', 'khoảng', 'đĩa', 'riết', 'khiến', 'dẫn', 'khả_năng', 'tốn', 'duyên', 'ruột', 'ml', 'kk', 'cơn', 'chăm', 'ga', 'truyện', 'ừ', 'này_nọ', 'sửa', 'chống', 'nhục', 'khoe', 'quét', 'yêu_đương', 'trách_nhiệm', 'thoải_mái', 'sáng_tạo', 'thu_nhập', 'va', 'sơn', 'công_nhân', 'thể_hiện', 'thánh', 'cam', 'ngược_lại', 'tự_dưng', 'diễn_viên', 'trứng', 'bạn_bè', 'lựa_chọn', 'độc', 'chuyển', 'fa', 'phú', 'trưa', 'lúa', 'mỏi', 'đạo_đức', 'hét', 'tóm', 'nhột', 'đau_khổ', 'trời_ơi', 'hết_sức', 'khiển_trách', 'máu', 'nta', 'thân_thiết', 'tý', 'hiệu_quả', 'xỉu', 'đỉ', 'lòi', 'bàn_tay', 'rửa', 'củi', 'rơm', 'ờ', 'chảy', 'đâm', 'vệ_sinh', 'khuyên', 'đàng_hoàng', 'xương', 'bốc', 'trúng', 'trộm', 'e', 'cỏ', 'mạnh_mẽ', 'xốp', 'dơ', 'sinh_viên', 'kinh_khủng', 'hè', 'muối', 'pha', 'công_việc', 'nhân', 'liên_tục', 'phốt', 'cán_bộ', 'na', 'gia', 'nét', 'thần_tài', 'ô_tô', 'vải', 'sắc', 'thức', 'dái', 'lai', 'hằng', 'ức_chế', 'tài_năng', 'xe_đạp', 'bày_đặt', 'nụ', 'mẫu_giáo', 'dắt', 'tổ_chức', 'hợp', 'bầy', 'rùi', 'thời_điểm', 'thất_bại', 'thê', 'dạng', 'xiên', 'hóa', 'caphe', 'mời', 'mềnh', 'mê_tín', 'an_toàn', 'tưởng_tượng', 'sắt', 'hộ', 'giáo_viên', 'mõm', 'tém', 'kiểm_tra', 'văn_hoá', 'hoàn_cảnh', 'lâu_lâu', 'vô_tình', 'hà', 'tu', 'x', 'nghĩ_lại', 'đề', 'tận_cùng', 'bệnh_viện', 'cạo', 'thui', 'mắng', 'ói', 'wow', 'hehe', 'trung_nguyên', 'đam_mê', 'lao', 'chia_sẻ', 'duy_nhất', 'trân_trọng', 'tự_hào', 'nát', 'cạp', 'say', 'lãng_mạn', 'bênh', 'ráng', 'công_khai', 'dạ', 'thú_vui', 'ui', 'lái_xe', 'kết_thúc', 'rảnh', 'đoán', 'ngày_tháng', 'vầy', 'lí_do', 'đòn', 'tui', 'bi', 'ý_kiến', 'share', 'môi_trường', 'dễ_dàng', 'ha_ha', 'dô', 'hí', 'đeo', 'gọn', 'nhật', 'biết_bao', 'khác_nào', 'tro', 'cẩu', 'nhai', 'nge', 'trèo', 'khuôn_mặt', 'chùa', 'vong', 'ngứa_mắt', 'bơi', 'đức', 'nhây', 'sử', 'giao_thông', 'hahaa', 'bát', 'chất_lượng', 'chợt', 'người_ngoài', 'bất_cứ', 'thiết_kế', 'nọ', 'ăn_nói', 'láo', 'chân_thành', 'ngoan', 'làm_ăn', 'phụ', 'né', 'ném', 'xử_lý', 'quanh', 'súc_sinh', 'như_thế', 'thoát', 'tắc', 'võng', 'chứng_minh', 'thành_phần', 'mún', 'gù', 'thực_ra', 'thanh', 'khó_chịu', 'ý_định', 'tiêu', 'dai', 'hiện_tại', 'nửa', 'công_ty', 'chưởng', 'ng', 'sức', 'phun', 'tài_sản', 'lẫn', 'danh', 'khoảnh_khắc', 'dth', 'phân_biệt', 'chang', 'gục', 'gato', 'lợi_dụng', 'bản_lĩnh', 'thay_vì', 'u_ám', 'thối', 'táp', 'khoái', 'hường', 'đặc_biệt', 'con_cái', 'gai_ốc', 'lòn', 'nhậu', 'nốt', 'soi', 've', 'gương', 'gê', 'hồ', 'nguồn', 'án', 'vi', 'lau', 'trồng', 'mượn', 'cú', 'ngại', 'chủ_nhiệm', 'vàng_trắng', 'buông', 'dây', 'dập', 'dâu', 'bo', 'cút', 'kinh_doanh', 'êu', 'nặn', 'add', 'ak', 'hề', 'có_hậu', 'liệu', 'võ', 'hợp_lí', 'miền', 'đảm_bảo', 'tôn_trọng', 'kể_cả', 'nghìn', 'mau', 'best', 'cưa', 'hốt', 'phá_hoại', 'vô_tâm', 'roi', 'bạo_lực', 'què', 'mái', 'một_số', 'xứng_đáng', 'da_gà', 'tan', 'kế', 'xanh', 'hay_là', 'việc_làm', 'đàn', 'đứt', 'bật', 'con_nít', 'hay_ho', 'bó_tay', 'du_lịch', 'trường_hợp', 'bờ', 'tiếp_tục', 'vũ', 'thế_hệ', 'lượt', 'lý_do', 'cũg', 'yên_tâm', 'nhân_viên', 'chúa', 'nhịn', 'ứa', 'lờ', 'dại', 'bá', 'phán', 'nguyên_nhân', 'vẩy', 'múa', 'nhà_thờ', 'bẻ', 'thẳng', 'chào', 'hà_nội', 'vv', 'ấm_áp', 'ghế', 'muộn', 'lưu_luyến', 'hứa', 'biết_mấy', 'ngựa', 'trôi', 'anh_chị', 'móc', 'giới_tính', 'rời', 'kết_quả', 'ngó', 'ăn_trộm', 'kỷ_niệm', 'hói', 'trận', 'sút', 'ch', 'thời_buổi', 'lướt', 'tổ', 'vở', 'xung_quanh', 'bồi_thường', 'vắt', 'hành_nghề', 'đú', 'mặt_mày', 'cà_phê', 'vui_tính', 'khỏe', 'nền', 'cta', 'man', 'nghiêm_túc', 'gặm', 'ngắt', 'bảo_hiểm', 'loài', 'dịch_vụ', 'thái_độ', 'trailer', 'trọn', 'tan_nát', 'nyc', 'tả', 'mợ', 'haiz', 'khùng', 'trái_tim', 'đạt', 'củng', 'giải', 'khen', 'hứng', 'hên', 'yến', 'tài_xế', 'rẻ', 'rách', 'than', 'nhốt', 'khủng_khiếp', 'lực', 'tinh_thần', 'mỏ', 'im', 'quan_hệ', 'thần', 'trẻ_em', 'hạt', 'gánh', 'gãy', 'pr', 'lựa', 'chăn', 'ê', 'vịt', 'bức', 'hàm', 'cá_tính', 'trở_lại', 'ướt', 'trước_kia', 'ngọc', 'đỏ', 'tạm_biệt', 'chiếu_phim', 'gan', 'nể', 'bỏ_tù', 'bình_tĩnh', 'bực', 'cầu_hôn', 'hahahaha', 'lậy', 'cậy', 'nghệ_thuật', 'ngược', 'kha', 'buôn', 'đu', 'súc', 'vợ_chồng', 'tội_nghiệp', 'lầm', 'trải', 'đầu_tư', 'mảnh', 'mải', 'thực_phẩm', 'mầm_non', 'độc_ác', 'lợi_ích', 'top', 'nh', 'bà_già', 'quyết_tâm', 'cám_ơn', 'đào', 'sốc', 'lìn', 'đố', 'ngày_mai', 'nỡ', 'đực', 'tế', 'cái_trò', 'quần_áo', 'nghỉ_việc', 'đổi', 'cư_xử', 'giao', 'chuồng', 'chổi', 'quơ', 'dán', 'bịa', 'gắp', 'biến', 'leo', 'nón', 'chỉnh', 'đè', 'cải', 'đạo', 'đù', 'địt', 'phép', 'dở', 'đường_ray', 'cố_tình', 'che', 'lào', 'lead', 'bày', 'mă', 'sai_lầm', 'trắng_tay', 'cafe', 'thuốc', 'tuyển', 'vại', 'thuế', 'vietcombank', 'dư', 'thói', 'đáy', 'dt', 'cổng', 'giá_như', 'núi', 'dịch', 'tươi', 'lộn_ruột', 'giun', 'bút', 'băng', 'mai_mốt', 'tự_ái', 'trầm_cảm', 'quăng', 'hoàn_toàn', 'sự_việc', 'cảnh_cáo', 'xe_máy', 'ơn', 'đói', 'chính_xác', 'an_ủi', 'đếu', 'lá', 'aeon', 'tồi', 'ninja', 'thốn', 'nhân_văn', 'xoài', 'vác', 'dao', 'người_nhà', 'gu', 'tìm_hiểu', 'hạ', 'sức_khoẻ', 'bình_yên', 'đg', 'khung', 'phố', 'bãi', 'điểm_danh', 'ý_tưởng', 'oan', 'ngực', 'ngọt_ngào', 'thần_thái', 'khách_hàng', 'tắm', 'ảo', 'chừa', 'tật', 'trở', 'thơm', 'vật', 'nắm', 'đề_nghị', 'nội_dung', 'xịt', 'trở_thành', 'siêu', 'sót', 'cá', 'bất_chấp', 'dâm', 'cướp', 'thà', 'chạnh_lòng', 'mồ_hôi', 'khói', 'giường', 'bóng_đá', 'kỷ_nguyên', 'ngươ', 'mất_nết', 'thợ', 'tài_liệu', 'mặt_nạ', 'xui', 'bựa', 'lắp', 'buồi', 'chuyến', 'nghiện', 'chặt', 'biết_bao_nhiêu', 'một_mình', 'dựng', 'chảnh', 'dè', 'quả_báo', 'một_chút', 'chai', 'để_ý', 'cảm', 'tội_lỗi', 'văn_hóa', 'le', 'xây_dựng', 'kinh_tế', 'phẩm', 'bị_thịt', 'hồng', 'sử_dụng', 'bã', 'trái_đất', 'thiệc', 'kiện', 'thực_sự', 'nàng', 'nhất_định', 'kì_thị', 'vườn', 'đối_tượng', 'điều_kiện', 'thất_vọng', 'túi', 'dị', 'tờ', 'mút', 'lêu', 'chuối', 'chớp', 'cánh', 'chẹp', 'khốn', 'bóc', 'suýt', 'trog', 'cơ_quan_chức_năng', 'hiện', 'kĩ', 'link', 'chủ_yếu', 'dã', 'hén', 'dự_án', 'gióng', 'ad', 'ốm', 'lẹ', 'văn_minh', 'tạt', 'tàn', 'trụ', 'mở_cửa', 'mép', 'hít', 'tiên', 'lên_án', 'hoà', 'dép', 'ngây_thơ', 'dẻo', 'tham_lam', 'kiên_trì', 'ké', 'chứng', 'già_mồm', 'chay', 'g', 'em_trai', 'đồng_cảm', 'đào_tạo', 'căng', 'tướng', 'ga_lăng', 'hỡi', 'xem_thường', 'chả_bù', 'kiến_vàng', 'cứt_trâu', 'ok', 'trò_đùa', 'xưng', 'bóp', 'dần', 'tư_tưởng', 'học_bổng', 'q', 'sủa', 'hú', 'vỏ', 'dụ', 'lễ', 'kiến_đen', 'đắp', 'thang_máy', 'dồi', 'bầm', 'ngân', 'đợt', 'vcb', 'tiết', 'đối_xử', 'chủ_động', 'time', 'chiến_đấu', 'gạo', 'áo_mưa', 'đươ', 'chư', 'ghé', 'phọt', 'cốc', 'sạch_sẽ', 'thắng', 'xúc', 'không_thể_nào', 'hiên_ngang', 'khỉ', 'bầu', 'phèo', 'anh_chị_em', 'he', 'online', 'lợi_nhuận', 'chốt', 'phơi', 'thụt', 'đọ', 'lứa', 'vòng', 'phía', 'tô', 'nua', 'khoá', 'trong_sạch', 'ship', 'y_tế', 'sức_khỏe', 'thư', 'tiền_bạc', 'thái', 'sàn', 'ngu_ngốc', 'vô_dụng', 'ong', 'ổn_định', 'phi', 'cung_cấp', 'ranh_con', 'giời', 'tiên_sư', 'đau_đớn', 'coi_thường', 'đô', 'viê', 'ti', 'tra', 'nhiê', 'sống_chết', 'th', 'nhát', 'thắc_mắc', 'tư', 'rứa', 'làm_giàu', 'tiệm', 'thời_trang', 'tự_trọng', 'rẻ_mạt', 'ngồi_tù', 'đáp', 'kẹo', 'ngõ', 'rọ_mõm', 'thân_hình', 'đóng_cửa', 'loạn', 'quái', 'xuất', 'lãnh_đạo', 'lở', 'trồi', 'mù', 'cmm', 'học_hành', 'hoàn_hảo', 'thượng', 'thg', 'ích_kỉ', 'trọn_vẹn', 'tường', 'rổ', 'mặt_dày', 'cũ', 'bia', 'lý', 'xử_phạt', 'lãi', 'ngưng', 'hưởng', 'tháo', 'gầy', 'phù_hợp', 'bởi_vậy', 'theo_dõi', 'sức_mạnh', 'lớn_tuổi', 'có_học', 'dốt', 'lí', 'vẫy', 'lọt', 'biến_thái', 'vô_cùng', 'thẻ', 'ự', 'thèn', 'du', 'lấp', 'phận', 'sung_sướng', 'chính_sách', 'bậy', 'giận_dỗi', 'mạnh_khỏe', 'rung_động', 'vặt', 'cà', 'phát_triển', 'sài', 'hành_hạ', 'tợp', 'loài_người', 'truyền_hình', 'doi', 'cong', 'đơn_phương', 'gắn_bó', 'dần_dần', 'én', 'ngu_dốt', 'tiền_mặt', 'đèn', 'đắt', 'rep', 'đĩa_bay', 'ngứa', 'thiếu_nhi', 'mềm', 'thổi', 'khét', 'hoàng', 'tâm_lý', 'xe_ôm', 'làm_công', 'ngày_nay', 'sg', 'cuồng', 'chém', 'ngốc', 'ngán', 'giây', 'sư', 'me', 'cản', 'hot', 'tôm', 'người_thương', 'hình_sự', 'dị_đoan', 'trật_tự', 'xh', 'sập', 'ghen', 'bùi', 'linh_tinh', 'bự', 'cmt', 'xe_hơi', 'ctay', 'quá_đáng', 'khóc_lóc', 'tranh', 'nhăn', 'loa', 'đẩy', 'cụt', 'sâu', 'giải_thích', 'ắt', 'vương', 'ăn_uống', 'mốc', 'biết_đâu', 'thiện', 'lành', 'nick', 'nghịch', 'răng_khôn', 'gián', 'quan', 'chặn', 'sáng_mai', 'bấm', 'dội', 'cá_sấu', 'cuốn', 'tranh_luận', 'nhưg', 'khoẻ', 'thang', 'bám', 'gọn_gàng', 'trầm_trồ', 'châu', 'hót', 'hứng_thú', 'đồng_đội', 'vay', 'post', 'thai', 'day', 'mạng_nhện', 'kín', 'vid', 'trại', 'ấn_tượng', 'team', 'tồi_tệ', 'tào_lao', 'nguyện', 'chú_ý', 'vật_chất', 'trước_mắt', 'nộp', 'đồn', 'cáo', 'chiếu', 'trưởng_thành', 'xách', 'ăn_ở', 'oy', 'ruồi', 'sởn', 'nhập', 'đẳng_cấp', 'hẹn', 'eo', 'thỏ', 'lui', 'gào', 'men', 'tủ', 'nhiệm_vụ', 'dị_ứng', 'quận', 'rẽ', 'cai', 'chổ', 'hờ', 'trả_lời', 'rải', 'đinh', 'lập', 'thấm', 'mật', 'liên_tưởng', 'vũ_trụ', 'dự', 'tông', 'nhàm', 'hồn', 'tiếp_theo', 'quý', 'cực_khổ', 'bô', 'trump', 'thăm', 'thây', 'lịch_sử', 'nguyễn', 'tàn_nhẫn', 'khâm_phục', 'nhg', 'lạy', 'nho', 'lưu', 'hoá', 'chờ_đợi', 'hiền_lành', 'ngửi', 'nhét', 'hoá_ra', 'làm_khó', 'hàng_loạt', 'rể', 'nổi_tiếng', 'tà', 'sáng_suốt', 'cáu', 'hư_hỏng', 'nóc', 'làm_trò', 'thành_phố', 'máu_me', 'sự_thật', 'ngàn', 'mong_manh', 'như_chơi', 'edit', 'luôn_luôn', 'trời_đánh', 'mang_tiếng', 'csgt', 'nhặt', 'lòng_đường', 'thô', 'moi', 'tinh_tế', 'phóng_điện', 'ích_kỷ', 'chịu_khó', 'hiệu_trưởng', 'hèn', 'um', 'đầm', 'nông_dân', 'lùi', 'nao', 'quãng', 'kịch_bản', 'chùm', 'xi_nhan', 'sẻ', 'nhóc', 'gay', 'kỉ_lục', 'chiêu', 'thú', 'tánh', 'chóng_mặt', 'cap', 'tiệc', 'mũi', 'xăng', 'gáy', 'tan_vỡ', 'main', 'linh_hồn', 'nhiệt_tình', 'mò', 'cát', 'ồ', 'hì', 'sn', 'khép', 'đểu', 'thét', 'mắm_tôm', 'ổ', 'ngộ', 'hậu', 'pin', 'tuột', 'vì_sao', 'mà_lại', 'nhặng', 'tầng', 'háng', 'bón', 'vụn', 'vai', 'sách', 'láo_toét', 'lôi', 'học_sinh_học', 'tấn_công', 'gắt', 'nắng_nóng', 'ne', 'nhảm_nhí', 'há', 'ầm', 'vĩ_đại', 'mí', 'sgk', 'toa', 'tích_sự', 'haizzz', 'ô_uế', 'cạn_lời', 'tiêu_diệt', 'dù_sao', 'vã', 'vốn', 'mẫu', 'mỳ', 'trí_tuệ', 'gáo', 'truyền', 'đắng_cay', 'bàn_tay_trắng', 'hát_hò', 'thùng', 'trụi', 'dẽ', 'bố_láo', 'níu', 'biết_điều', 'tong', 'mấy_đời', 'tre', 'chóp_chép', 'xa_hoa', 'nhỏ_bé', 'đành', 'tất_nhiên', 'xinh_xinh', 'mai_sau', 'tin_tưởng', 'sứng', 'qua_đời', 'quang', 'tiền_kiếp', 'vé', 'ẻ', 'coi_bộ', 'max', 'làm_thuê', 'nhà_quê', 'túm', 'vời', 'một_cách', 'bóng_dáng', 'cho_nên', 'vẩn', 'mạnh_tay', 'nhất_là', 'mỉm', 'tiêu_đề', 'đi_đứng', 'dọc', 'or', 'bổ', 'đâm_đầu_vào', 'ngàn_thu', 'đàn_hồi', 'đánh_rơi', 'xa_vời', 'trộm_cắp', 'trào', 'thận', 'xoá', 'mỹ', 'xxx', 'hài_lòng', 'mơ_mộng', 'quẹo', 'ai_đời', 'tính_chuyện', 'lâu_dài', 'tiễn', 'đổ_vỡ', 'đùi', 'tím', 'giơ', 'năm_học', 'ngấm', 'đấu', 'hàg', 'hồi_hộp', 'trùn', 'giun_đất', 'tét', 'ướp', 'trôi_sông', 'sản_phẩm', 'mới_lạ', 'kẻo', 'thúi', 'đanh', 'ngất', 'định_mệnh', 'hãi', 'trầu', 'y_như_rằng', 'mát_lòng', 'vờ', 'rờ', 'dâm_ô', 'gẫy', 'hiệp', 'tỉnh_táo', 'bao_cấp', 'agribank', 'phong', 'phì', 'đi_đêm', 'tủi', 'thầm', 'rừng', 'nì', 'khựa', 'bè_phái', 'gật', 'lắm_chuyện', 'bánh_chưng', 'tung', 'thở', 'gã', 'đón_nhận', 'giông_bão', 'combo', 'phe', 'shipper', 'thù', 'phù_du', 'ưng', 'bể_dâu', 'lót', 'bửa', 'làm_tới', 'nở', 'bít', 'xa_lạ', 'gieo', 'gặt', 'chung_thân', 'nghiệp_chướng', 'thức_ăn', 'úi', 'người_dưng', 'rớ', 'mong_muốn', 'thâ', 'nhâ', 'đương_nhiên', 'se', 'nê', 'nhân_cách', 'lẳng_lơ', 'mật_ong', 'trời_đất', 'bệnh_hoạn', 'mẻ', 'chôn', 'rảnh_rỗi', 'cũng_nên', 'mì', 'mần', 'mãn_nguyện', 'không_khí', 'nhằm', 'ngày_sinh_nhật', 'bịch', 'ai_bảo', 'ốm_nhom', 'cở', 'cởi', 'lắc_đầu', 'ngta', 'thách_thức', 'kỉ', 'bôi', 'che_chở', 'sấm', 'âm', 'hãng', 'quảng', 'shop', 'bao_xa', 'híc', 'xoắn', 'nhà_bếp', 'rùng', 'lồng', 'nhảm', 'cửa_hàng', 'wc', 'sánh_vai', 'bỗng_nhiên', 'la_hét', 'mất_mặt', 'bún', 'viên', 'tham_gia', 'cưỡng_hôn', 'dùm', 'ngữ_văn', 'độg', 'lùa', 'súng', 'ván', 'tàu_hoả', 'va_chạm', 'bth', 'ngang_trái', 'chấp_hành', 'kỉ_niệm', 'di', 'hột', 'kim_tuyến', 'bă', 'lạnh', 'phá_sản', 'khí_hậu', 'sớm_muộn', 'chén', 'bùn', 'gai', 'haa', 'chuc', 'dầy', 'mobile', 'nói_riêng', 'muôn_đời', 'thật_tình', 'đồi', 'xog', 'mốt', 'cóc', 'răn_đe', 'hoc', 'hố', 'tuyet', 'voi', 'xào', 'đụng_chạm', 'hức', 'châm', 'họ_hàng', 'lằm', 'lốn', 'hihii', 'bn', 'khoản', 'tri', 'cổ_động_viên', 'năng_khiếu', 'tục', 'pk', 'buồn_ngủ', 'khấc', 'trọc', 'te', 'câ', 'táng', 'dụng_cụ', 'vô_ý_thức', 'ghê_tởm', 'bà_cô', 'nhà_máy', 'tuấn', 'kiệt', 'đại_gia', 'trăng', 'beep', 'ngôi', 'chỉ_huy', 'cỡ', 'diệt', 'bởi_vì', 'muôn', 'đag', 'gia_phả', 'vcd', 'hành_chính', 'nhu_cầu', 'gỡ', 'tàu_hỏa', 'bung', 'lật', 'tố_chất', 'alo', 'chua_cay', 'chi_tiết', 'tay_chân', 'dầu_hôi', 'phủ_nhận', 'vai_trò', 'khập_khiễng', 'ngu_si', 'loạn_luân', 'điên_khùng', 'phiền', 'tay_trái', 'thẹo', 'rụi', 'bánh_bèo', 'đi_nữa', 'đi_ngoài', 'diệu', 'béo_tốt', 'bình_quân', 'vùng', 'nếp', 'năn', 'bịt', 'cùi', 'từ_thiện', 'chật', 'cư', 'điêu', 'ợ', 'chắn', 'gio', 'mét', 'anh_vũ', 'hã', 'cp', 'thiên_thần', 'kết_bạn', 'chịu_đựng', 'vợ_con', 'kí_ức', 'ép', 'uy_tín', 'lì_xì', 'sen', 'kết_hợp', 'sx', 'hư_cấu', 'free', 'thờ_ơ', 'phạm', 'cay_nghiệt', 'goodbye', 'bar', 'ngày_càng', 'héo', 'cớ_sao', 'sổ', 'khó_ở', 'mất_ngủ', 'tình_cờ', 'như_điên', 'hình_thức', 'vô_lý', 'bé_nhỏ', 'chứng_kiến', 'xời', 'môn', 'cành', 'sale', 'thất_đức', 'nhung', 'công_nghệ', 'mặt_trăng', 'đồng_ý', 'lao_công', 'dọn_dẹp', 'từ_bỏ', 'vênh', 'kêu_ca', 'khô', 'sán', 'xử_tử', 'loz', 'đu_đủ', 'thìa', 'nằm_mơ', 'thoáng', 'canxi', 'xuống_nước', 'đánh_đòn', 'kì', 'bù', 'giống_hệt', 'niêm_yết', 'trật', 'giải_pháp', 'sad', 'tóm_lại', 'mới_đây', 'net', 'nín', 'đoàn_viên', 'đồng_hồ', 'thuyết_phục', 'ối', 'lương_tâm', 'hậu_quả', 'thôi_thì', 'view', 'dơ_bẩn', 'quậy', 'vui_mừng', 'đụng', 'công_bằng', 'gv', 'cầu_mong', 'khớp', 'ăn_không', 'sâu_sắc', 'lượn', 'nửa_vời', 'chã', 'vội', 'sảnh', 'tòa', 'râu', 'trang', 'ăn_cắp', 'mua_sắm', 'hj', 'lời_nói', 'thối_nát', 'thế_gian', 'tình_ái', 'dở_người', 'kêu_trời', 'giàu_có', 'ăn_hàng', 'khó_tính', 'dịp', 'ánh_sáng', 'phóng', 'uầy', 'ăn_học', 'li', 'dấu', 'đệ', 'thực_tập', 'cảm_nhận', 'vé_số', 'chj', 'nhân_ái', 'nhớ_đời', 'hẹn_hò', 'iq', 'quài', 'ngẩng', 'an', 'ngậm', 'vụt', 'nghiêm_khắc', 'hoành_tráng', 'ngân_hàng', 'giáo_dưỡng', 'dkm', 'cung', 'nỗi_lòng', 'tiện', 'quạt', 'the', 'bảo_thủ', 'thừa', 'thực', 'đồng_lòng', 'gối', 'sẵn_sàng', 'đúi', 'gạch', 'như_ý', 'lĩnh_vực', 'văn_học', 'cống_hiến', 'cạch', 'xuất_sắc', 'hoàn_thành', 'điệu', 'lít', 'tùy', 'động_viên', 'fake', 'bền', 'oke', 'chín', 'lây', 'bạt_tai', 'cau', 'tốc_độ', 'vụ_việc', 'make', 'cúp', 'van_xin', 'làm_phiền', 'nhiu', 'ác_ôn', 'ngon_lành', 'mục_đích', 'gd', 'ngọng', 'hình_phạt', 'gào_thét', 'nghiệt_ngã', 'mé', 'lằn', 'cảnh_sát', 'đọan', 'phương_tiện', 'tau', 'lách', 'nhãn', 'đầu_óc', 'tt', 'vâ', 'nhân_vật', 'sảy', 'người_làm', 'cật_lực', 'tới_tấp', 'mỉa_mai', 'vui_sướng', 'ít_nhất', 'kịch', 'qué', 'niềng', 'phục', 'thật_thà', 'cm', 'lém', 'meo', 'lẽ', 'ôi_thôi', 'múc', 'quá_thể', 'trao', 'tiến_bộ', 'ưu_tú', 'mất_lòng', 'long', 'mỡ', 'tks', 'điếc', 'trộn', 'khắp', 'ớn', 'giờ_đây', 'ngờ', 'bit', 'vi_phạm', 'đổ_thừa', 'quốc', 'khinh', 'hâm', 'phiêu', 'phong_trào', 'cặn_bã', 'kỳ', 'hack', 'trùm', 'giả_bộ', 'lén', 'cà_rốt', 'mụn', 'nghiêm_trọng', 'nghịch_ngợm', 'cún', 'lối', 'đặc_vụ', 'tuyệt_đối', 'tiếp_tay', 'ẩu', 'tuyển_dụng', 'phá_giá', 'gốc', 'mớ', 'cống', 'chân_chính', 'hoan_hô', 'hêt', 'thặc', 'khu', 'sợi', 'hả_dạ', 'kèo', 'ngọn', 'cổ_họng', 'cực_kì', 'bét', 'quản_lý', 'vén', 'áo_dài', 'tiền_túi', 'ác_mộng', 'vần', 'lm', 'phản_ứng', 'đấu_giá', 'giòi', 'dạy_dỗ', 'dột', 'khan', 'dũng_cảm', 'mót', 'chia_chác', 'xoạc', 'stk', 'từ_chối', 'gg', 'nhẽ', 'hàn_quốc', 'bốn', 'trọng_dụng', 'thói_quen', 'thực_trạng', 'ngóng', 'đấu_tranh', 'bừa_bãi', 'nhà_ăn', 'thiệp', 'tư_cách', 'vlog', 'xì', 'trắng', 'khẩu', 'hê', 'đối_thủ', 'toán', 'núp', 'có_mặt', 'kill', 'ka', 'lên_cơn', 'ghẹo', 'chúng_mình', 'chan', 'khía_cạnh', 'kp', 'thần_thánh', 'lạng', 'phản_đối', 'uổng_phí', 'ngắn_ngủi', 'ngoài_ra', 'kiện_tụng', 'tháng_ngày', 'kĩ_thuật', 'tra_tấn', 'àh', 'ơiiii', 'khẩu_trang', 'vì_vậy', 'bụi', 'xao_xuyến', 'trích', 'chứa', 'thông_điệp', 'chân_mày', 'tuỳ', 'yêu_tinh', 'ngan', 'chách', 'cay_đắng', 'trị', 'bắt_cóc', 'thị', 'ghệ', 'lộ', 'trò_cười', 'hó_hé', 'dể', 'chia_ly', 'cắm_sừng', 'drama', 'phấn', 'học_hỏi', 'chuyên_nghiệp', 'copy', 'in', 'tạo_hóa', 'ló', 'hận', 'dang_dở', 'nai', 'xóm', 'nhòm', 'định_nghĩa', 'kề', 'đồ_chơi', 'xấu_hổ', 'khóa', 'thông', 'đau_đầu', 'nhãm', 'dọa', 'banh', 'list', 'nũa', 'nhóm', 'dĩa', 'vô_học', 'thênh_thang', 'mua_vui', 'miễn_phí', 'bế', 'tẩm', 'im_lặng', 'thấu', 'xé', 'bro', 'tít', 'het', 'rốt', 'uất', 'ghiền', 'mxh', 'khung_cảnh', 'thân_thương', 'non', 'quy_định', 'que', 'ấu_trĩ', 'qá', 'dẫu', 'tấn', 'đánh_bại', 'phần_nào', 'bất_cần', 'khí', 'ngạc_nhiên', 'lịch', 'tình_hình', 'thât', 'hốc', 'con_nuôi', 'tải', 'rợn', 'chuyên_gia', 'đuợc', 'tởn', 'lụm', 'hưởng_thụ', 'thuận', 'bận', 'tâm_trạng', 'chủ_nhật', 'bim', 'liệt_kê', 'đèo', 'tủi_thân', 'ib', 'xắm', 'quát', 'hiện_đại', 'tiếc_nuối', 'dáng', 'truy_tố', 'tật_nguyền', 'phân', 'nhỏ_nhen', 'cừu', 'nhuộm', 'ròi', 'vĩnh_viễn', 'you', 'thanh_thản', 'diễn_xuất', 'bg', 'xí', 'yếu', 'ẻm', 'hổng', 'xịu', 'vất', 'ny', 'ủ', 'kí', 'cực_kỳ', 'chiếm', 'đóa', 'đanh_đá', 'nghề_nghiệp', 'suýt_nữa', 'con_số', 'đúg', 'lăn', 'hạp', 'làn', 'yếu_đuối', 'vị_trí', 'ngày_ngày', 'mỏng_manh', 'trọ', 'đâu_đây', 'ngắn_gọn', 'hất', 'xót', 'nặng_lời', 'bọ', 'thik', 'võ_thuật', 'thằn_lằn', 'bốp', 'ỉ', 'so_sánh', 'số_phận', 'theo_đuổi', 'mâm', 'ôtô', 'loi_choi', 'galang', 'dỗ_dành', 'sinh_vật', 'ốc_bươu_vàng', 'liêm_sỉ', 'vất_vả', 'tình_nguyện', 'sổ_đỏ', 'riềng', 'thông_tin', 'nuôn', 'thể_thao', 'độc_thân', 'khoa', 'cũn', 'truyền_thuyết', 'trả_thù', 'cường_lực', 'truyền_bá', 'thảm_họa', 'tùm_lum', 'kiến_thức', 'síu', 'kích_thích', 'riêng_tư', 'king', 'oai', 'báo_hiếu', 'nhà_đá', 'y_như', 'chăng_nữa', 'giặt', 'bỏ_rơi', 'hạn', 'có_hạn', 'lát', 'giấy_tờ', 'chết_đuối', 'nhường', 'trĩ', 'tâm_sự', 'check', 'thuong', 'khac', 'câng', 'ae', 'chọp', 'ánh', 'đáng_đời', 'uớc', 'muôn_vàn', 'huống', 'chậm_trễ', 'gồng', 'bán_nước', 'lơ', 'phức_tạp', 'chinh_phục', 'bây_chừ', 'trất', 'hs', 'mẩu', 'tổng_kết', 'miết', 'đầy_đủ', 'bài_tập', 'cv', 'múa_lân', 'thiệt_hại', 'trầy_xước', 'bộn', 'kiệt_sức_khỏe', 'chế_độ', 'tự_nguyện', 'kq', 'lừa_gạt', 'coi_chừng', 'mj', 'phá_hủy', 'phật_giáo', 'đời_sống', 'tâm_linh', 'rẻ_rúng', 'giang', 'thy', 'ngẫm_nghĩ', 'sọ_dừa', 'lạ_lùng', 'nghệ_an', 'huề', 'sái', 'quai_hàm', 'phát_hiện', 'bép_xép', 'lạ_mắt', 'khoé', 'khoa_học', 'nước_lạnh', 'ks', 'quà_cáp', 'ngón', 'phàm_ăn', 'ưu_đãi', 'dịu_dàng', 'cup', 'nhỏ_nhặt', 'giở_trò', 'thời_sự', 'tổ_sư', 'the_thé', 'cơ_bắp', 'kì_lạ', 'thằng_cha', 'zi', 'lộng_lẫy', 'đong', 'ngông', 'trễ', 'vô_số', 'phần_lớn', 'ngoại_lệ', 'bước_tiến', 'thuở', 'thiếu_thời', 'chẳn', 'bốc_đồng', 'đe', 'cận_cảnh', 'nước_lèo', 'hao', 'bản_chất', 'ưa', 'chú_rể', 'socola', 'of', 'mun', 'kip', 'cúng', 'âm_binh', 'volum', 'cast', 'người_thân_quen', 'dlm', 'tụm', 'mờ', 'gane', 'stt', 'cài', 'úng', 'suy_đồi', 'công_lao', 'đền_đáp', 'ngoác', 'gấu_trúc', 'trúc', 'vtv', 'vợ_bé', 'ngây_ngô', 'fải', 'tràn_ngập', 'ngỡ', 'thóc', 'ay', 'mọt_gông', 'bon', 'ròng_rã', 'lưu_lạc', 'kiến_lửa', 'zời', 'chìm', 'nóng_tính', 'cương_quyết', 'trân_châu', 'huy_hoàng', 'le_lói', 'đạo_cụ', 'nồng', 'khóe', 'cào', 'phím', 'chê_bai', 'am_hiểu', 'giớ', 'giây_phút', 'láp', 'xược', 'nệm', 'vụng_về', 'phát_huy', 'zo', 'hoàn_chỉnh', 'hee', 'sóc', 'gõ', 'đêm_đêm', 'hắn', 'cay_cú', 'hàng_không', 'nhồi', 'gián_tiếp', 'cấp_độ', 'tai_nghe', 'viển_vông', 'kì_cục', 'chớt', 'bước_đầu', 'rài', 'nhớp', 'cư_dân', 'phập', 'tươ', 'tốt_nghiệp', 'phen', 'ri', 'đa_phần', 'đông_lạnh', 'bỉm', 'đậm_chất', 'phân_khối', 'mink', 'nhà_cửa', 'ma_quỷ', 'đi_lại', 'mất_gốc', 'lag', 'đẹp_đôi', 'tơi', 'chùi', 'trung_quốc', 'tai_nạn', 'ngừng_nghỉ', 'èo', 'tàn_phá', 'vá', 'la_làng', 'tự_vấn', 'cô_hồn', 'nghèo_rớt', 'mồng_tơi', 'oi', 'troi', 'nhập_khẩu', 'rả', 'khinh_thường', 'làm_gương', 'đối_phương', 'khôi_phục', 'hận_thù', 'cập_nhật', 'bất_động_sản', 'hó', 'dự_định', 'đổ_xô', 'hiếu_kỳ', 'loai', 'xấu_xa', 'canh_bạc', 'tự_sát', 'bọ_xít', 'thì_chớ', 'ngoạc', 'hễ', 'bợt', 'phổi', 'dõ', 'ô_nhiễm', 'rộ', 'quả_quyết', 'kể_ra', 'móc_túi', 'hàm_răng', 'chinh_chiến', 'nhem_nhẻm', 'cả_thể', 'ná', 'tác_phẩm', 'hiếm_hoi', 'điện_ảnh', 'công_chúng', 'đạn', 'đau_điếng', 'nhắm_mắt', 'nắm_bắt', 'kéo_theo', 'ẩu_tả', 'thuoc', 'bat', 'kiem', 'diễm', 'nhăn_nhó', 'sạn', 'cánh_tay', 'độn', 'lộn', 'la_liếm', 'làm_loạn', 'định_hướng', 'vậy_sao', 'khởi_động', 'tay_nghề', 'nấu_nướng', 'ương', 'ben', 'nhiêu', 'mặc_cả', 'quần_lót', 'ki', 'gơ', 'thành_quả', 'del', 'xoắn_ốc', 'quy_luật', 'cày', 'cơ_ngơi', 'r', 'hối_hận', 'tpbank', 'giấu', 'bòn', 'căng_thẳng', 'mức_độ', 'nói_xấu', 'hầu_như_ai', 'bao_dung', 'người_thân', 'khuyết_điểm', 'hoạ', 'dàn', 'bật_lửa', 'vinmec', 'nghê', 'â', 'lung_lay', 'lắng', 'nàn', 'công_nghiệp', 'đại_trà', 'đun', 'chơi_bời', 'làm_biếng', 'nhang', 'khấn_vái', 'tài_lộc', 'tóc_sâu', 'đ', 'phiền_hà', 'chắt', 'tâm_hồn', 'rông', 'tội_ác', 'hoàn_mĩ', 'gan_dạ', 'chân_kính', 'hồi_xuân', 'rần_rật', 'cắt_cử', 'giềng', 'quy_trình', 'đợi_chờ', 'tiến_triển', 'hơn_nữa', 'hư_đốn', 'dị_nghị', 'chì_chiết', 'phia', 'danh_ngôn', 'bột', 'chiên', 'huhuhu', 'checkin', 'tình_trạng', 'bất_kì', 'km', 'mặc_kệ', 'sapa', 'dụi', 'pv', 'toilet', 'troll', 'dưa', 'cf', 'quàng', 'hiếp_dâm', 'ngửa', 'thấy_kinh', 'suy_thoái', 'khuôn', 'đúc', 'bắt_chuyện', 'tỉ_mỉ', 'ac', 'tín_ngưỡng', 'xem_chừng', 'đét', 'quát_tháo', 'nhố_nhăng', 'khu_phố', 'đựoc', 'đích', 'thiu', 'giám_đốc', 'đậm', 'zay', 'sỉ_nhục', 'lăng_mạ', 'kẻ_thù', 'xám', 'thục_mạng', 'đắn_đo', 'ù', 'tào', 'chòi', 'môi', 'zoe', 'khôn_lớn', 'chồn', 'sắp_sửa', 'vòng_vòng', 'tơ', 'đua', 'diển', 'khuyến_mại', 'chột_dạ', 'hlv', 'pogba', 'mu', 'thời_tiết', 'thông_báo', 'cấy', 'giải_phóng', 'chiếm_đoạt', 'nhằng', 'tno', 'cử', 'tép', 'hùm', 'cs', 'mơ_ước', 'mòn', 'nha_nha', 'cóng', 'hp', 'thầu', 'nấu_ăn', 'bư', 'sư_tử', 'phúc_đức', 'thiết_bị', 'cẩng', 'ớ', 'ăn_vạ', 'bonus', 'ven', 'máy_chém', 'chân_thực', 'vững', 'quan_điểm', 'kara', 'trang_trí', 'đèn_cầy', 'lòa', 'nhà_thơ', 'ẩn_dụ', 'chơi_chữ', 'phân_tích', 'nươ', 'ninh', 'tiê', 'giu', 'đơ', 'be', 'giẻ', 'mừn', 'nhíp', 'sưởi', 'thủy_lực', 'luyến', 'khởi_nghiệp', 'tsb', 'cao_nguyên', 'nhiệt_đới', 'lạnh_giá', 'sương_muối', 'sinh_trưởng', 'biên', 'haizzzz', 'nhâm_nhi', 'phì_phèo', 'điếu', 'boxing', 'ra_đời', 'dụ_dỗ', 'nết_na', 'euro', 'rực', 'toà', 'phủ', 'sĩ_diện', 'inter', 'banking', 'kau', 'vàng_đen', 'hồ_tiêu', 'tứ_xứ', 'nhớp_nhúa', 'khía', 'nạn', 'rồi_ra', 'nhĩ', 'ào', 'son', 'báo_đáp', 'giúp_việc', 'phức', 'sấm_sét', 'doạ', 'dg', 'rap', 'quên_mình', 'dap', 'rat', 'vu', 'nhanh_trí', 'ớt', 'cú_mèo', 'tự_ý', 'nhẹ_tay', 'chẳng_bù', 'gặp_mặt', 'bất_lương', 'my', 'hoang_tưởng', 'thâm_niên', 'kiềm_chế', 'khắc_phục', 'vũ_lực', 'giải_lao', 'quá_khích', 'trá', 'bằng_chứng', 'tiêu_cực', 'sun', 'công_chúa', 'đời_thường', 'sầu_riêng', 'lanh', 'tay_đôi', 'biết_ơn', 'hổ', 'đi_bụi', 'xen', 'lô', 'lz', 'camera', 'không_đâu', 'iêu', 'bờm', 'khuyến_cáo', 'thủng', 'nhân_hậu', 'ghe', 'vung', 'sặc', 'đành_rằng', 'ăn_xin', 'đoàng', 'víu', 'ukm', 'nhồn', 'màu_mè', 'khẽ', 'lệ', 'hí_hửng', 'tụ_họp', 'khắn', 'sáng_lập', 'công_thức', 'hợp_lý', 'mổi', 'ăn_nhậu', 'ngà_ngà', 'giang_hồ', 'tưởng_chừng_như', 'dâu_tằm', 'biến_dạng', 'địch', 'cầu_thang', 'dựt', 'đoàn_kết', 'manga', 'bản_địa', 'rmit', 'an_ninh', 'thèm_khát', 'bỉu', 'singapore', 'hành_lý', 'hù', 'công_tác', 'cô_dâu', 'liên_đoàn', 'liên_hệ', 'chơi_khăm', 'huống_gì', 'điệu_đà', 'trầy', 'rớt_giá', 'kinh_khủng_khiếp', 'aw', 'công_ích', 'nhà_tù', 'giúp_ích', 'mall', 'hủy_hoại', 'bé_con', 'mịa', 'tuôi', 'lạc_quan', 'ứng', 'ồn', 'sống_lưng', 'sài_gòn', 'bí_quyết', 'agri', 'hách', 'đũa', 'con_cả', 'thân_ái', 'tích_cực', 'rạch', 'tại_chỗ', 'sưng', 'triệt_sản', 'nghén', 'âm_nhạc', 'tưng', 'hu_hu', 'xóa_bỏ', 'láng', 'mịn', 'tam_kì', 'ds', 'làm_luật', 'tay_trắng', 'chen', 'xơi', 'trỏ', 'lành_lặn', 'vác_mặt', 'đầu_gấu', 'chí_ít', 'hiện_giờ', 'đa_số', 'phàm', 'hỏi_vợ', 'gươm', 'nguồn_lực', 'dân_tộc', 'luật_định', 'cách_ly', 'vote', 'nhục_nhã', 'crazy', 'xác_nhận_lời', 'thái_lan', 'saoooo', 'tưng_tưng', 'vi_khuẩn', 'vi_trùng', 'nấp', 'hiccc', 'hao_mòn', 'nhan_sắc', 'thương_yêu', 'ghê_á', 'ăn_bám', 'khá_giả', 'áy_náy', 'góp_ý_kiến', 'tằm', 'pg', 'hoả', 'cảnh_báo', 'nhẫn_nhịn', 'hơm', 'bài_học', 'tuốt', 'cận', 'mở_mắt', 'lien', 'rưng_rưng', 'quyền_lực', 'ngột', 'ngôn_ngữ', 'điểm_mù', 'vô_cảm', 'said', 'nôn', 'phong_thuỷ', 'nhọt', 'đíu', 'hỉu', 'triều_tiên', 'dòm', 'husky', 'lờ_đờ', 'phấn_đấu', 'toang_toác', 'ây', 'nháo_nhào', 'khà_khà', 'vi_vu', 'quyển', 'ngải_cứu', 'tác_dụng', 'truyện_cổ_tích', 'chua_lè', 'chua_loét', 'cơ_thể', 'đánh_đổi', 'kỳ_lạ', 'ez', 'danh_dự', 'nhân_phẩm', 'dme', 'ăn_theo', 'đột_nhiên', 'xôi', 'giản_dị', 'yêu_mến', 'sọt', 'đổi_thay', 'vuông', 'chung_quy', 'nịnh_nọt', 'ầm_ầm', 'niếm', 'con_heo', 'chịu_thua', 'giao_lưu', 'càn', 'cốt_lõi', 'then_chốt', 'thúc_đẩy', 'tiển', 'sách_lược', 'nỏ', 'thun', 'thẹn', 'đầu_lâu', 'cõng', 'đồng_bằng', 'bác_học', 'sàm_sỡ', 'bết', 'quì', 'trực_tiếp', 'miệt_thị', 'mặt_đường', 'hoài_niệm', 'bộ_đội', 'yếu_ớt', 'kiềm', 'hỉ', 'phò', 'ố', 'rùng_mình', 'lồng_lộng', 'bổ_sung', 'ngang_ngược', 'giám_khảo', 'tưong', 'chó_chết', 'tiếp_xúc', 'chắc_ăn', 'tê', 'chôm', 'ngàng', 'lập_luận', 'thú_y', 'dây_chằng', 'giòn', 'xuất_viện', 'sug', 'nhà_trẻ', 'túi_tiền', 'họa', 'grab', 'thơm_phức', 'hem', 'lám', 'ám', 'lạ_kì', 'vẫ', 'lợi_hại', 'nhũng', 'bản', 'quyết', 'ngăn', 'tiệt', 'kiệm', 'khai_sinh', 'bình_dị', 'thảo_nào', 'mõi', 'thích_thú', 'được_cái', 'lười_biếng', 'can', 'chinh', 'chính_quyền', 'bai', 'kỉu', 'chấy', 'chọc_tức', 'thử_nghiệm', 'nới', 'xò', 'live', 'stream', 'núc', 'bơm', 'dma', 'gă', 'lân', 'avenger', 'hehee', 'mỏi_mệt', 'tranh_cãi', 'cigar', 'am', 'thiền_định', 'tiếp_quản', 'thường_tình', 'giới', 'đại_tu', 'hỏi_han', 'ní', 'gãi', 'ứ', 'cơ_cực', 'dứt_khoát', 'nhận_diện', 'khí_chất', 'bão', 'giông', 'trợ_giúp', 'nhân_dân', 'mệ', 'fail', 'không_chừng', 'ca_sĩ', 'xáng', 'noi', 'hàn_gắn', 'bịa_đặt', 'bú', 'phũ', 'thiểu_năng', 'năng_lực', 'spider', 'bình_phục', 'căn_bản', 'dương', 'hoang_mang', 'rung', 'đôi_lứa', 'đạo_lý', 'có_thể_loại', 'xẩy', 'giáp', 'cổ_hủ', 'xiền', 'nguy_cơ', 'giáo_sư', 'giáo_trình', 'đai', 'giảm_tốc_độ', 'thạ', 'thế_ra', 'động_dục', 'vớ', 'halo', 'mua_bán', 'lồi_lõm', 'vòi', 'hoy', 'địa_phương', 'hụt', 'cũnh', 'chông', 'mộc', 'xử_lí', 'hèm', 'tắt_thở', 'huynh', 'không_lẽ', 'kím', 'ce', 'dược', 'mồi', 'mộ', 'thấp_thỏm', 'cứu_vớt', 'mặt_bằng', 'chíp', 'đuôi', 'input', 'thi_thoảng', 'lườm', 'mô_tả', 'vực', 'bao_biện', 'chửi_rủa', 'romantic', 'kiểm_soát', 'dắm', 'kiểm_điểm', 'gia_vị', 'pê', 'đài', 'táo', 'imdb', 'thời_đại', 'dây_điện', 'dăm', 'rê', 'bệnh_nhân', 'tía', 'thần_tượng', 'uoc', 'duoc', 'nhu', 'ngộ_nghĩnh', 'biến_động', 'thăng_trầm', 'chả_viên', 'hệ_thống', 'bật_tường', 'gắn', 'miên_man', 'báo_ứng', 'tẩy', 'hô_hào', 'nun', 'định_kì', 'mat', 'quân_nhân', 'tập_trận', 'pccc', 'thao_trường', 'chiến_trường', 'đổ_máu', 'bà_thảo', 'chăm_lo', 'gia_trưởng', 'vũ_phu', 'sát_cánh', 'ấp', 'tâm_trí', 'con_buôn', 'bọ_chét', 'cớ', 'hẩy', 'woa', 'kẹp', 'hịt', 'khênh', 'thế_chân', 'đạo_diễn', 'tài_ba', 'tk', 'vạn', 'để_dành', 'toán_học', 'single', 'mum', 'sức_lực', 'hành_xác', 'vẹo', 'hoàn_thiện', 'che_kín', 'quan_sát', 'xành', 'bàn_thờ', 'power', 'siêng_năng', 'tớn', 'phát_biểu', 'thực_dụng', 'nghìn_tỷ', 'rau', 'comt', 'vietsub', 'lồng_tiếng', 'ráo', 'ntmk', 'san', 'vấp_ngã', 'nước_hoa', 'real', 'vạch_mặt', 'block', 'xd', 'kỉ_yếu', 'ngói', 'sống_động', 'chừng', 'bảy', 'bưởi', 'cự', 'thoại', 'xãy', 'đâ', 'mo', 'thừa_thế', 'từ_bỏ_quá', 'dìm', 'ngư_dân', 'mách_lẻo', 'học_tập', 'photoshop', 'quy', 'thi_hành', 'công_vụ', 'khu_vực', 'loc', 'lõi', 'nguyên_chất', 'xã_giao', 'sự_tích', 'sát_hại', 'tu_hành', 'nhât', 'hoan_hỉ', 'lộc', 'tác_hại', 'cần_câu', 'chế_tạo', 'honda', 'sục', 'bình_xịt', 'xà', 'phồng', 'hô', 'đặng', 'đơn_thuần', 'mã', 'kinhh', 'liên_lạc', 'phảu', 'chứa_đựng', 'bí_mật', 'vùi', 'mứt', 'nhó', 'bê', 'daklak', 'khủng', 'né_tránh', 'chuyên_cơ', 'chiêc', 'trơi', 'mạ', 'thầm_lặng', 'gia_nhập', 'quát_mắng', 'fire', 'té_ra', 'fine', 'đh', 'everywhere', 'nhễ', 'quâ', 'qa', 'đỡ_đẻ', 'sáu', 'đậu_phộng', 'đề_cương', 'án_mạng', 'giàu_sang', 'phú_quý', 'sòng_phẳng', 'công_cốc', 'kì_vọng', 'sat', 'chuyên', 'tụ_tập', 'ngự', 'nhàn', 'kiểm_kê', 'toà_án', 'nùi', 'một_hai', 'mầm', 'chớm', 'xẹp_lép', 'lặng_im', 'mọc_sừng', 'toại_nguyện', 'nghệt', 'thuật', 'làm_chủ', 'làm_mướn', 'tương_tự', 'dòng_họ', 'un', 'nt', 'nặng_tình', 'trí_khôn', 'tiến_hóa', 'đẹp_đẽ', 'giai_điệu', 'lãnh', 'mở_màn', 'chúg', 'ngổng', 'bồi', 'ngày_sinh', 'ré', 'hoảng', 'nhởn', 'kinh_phí', 'dell', 'tỷ_lệ', 'nữa_là', 'nói_dối', 'truyền_cảm_hứng', 'khoan_dung', 'khinh_bỉ', 'đâu_đó', 'ủng_hộ', 'vít', 'gỗ', 'chở', 'cửa_mở', 'nhân_duyên', 'quad', 'học_giả', 'rả_rích', 'đăm_đăm', 'rôm_rả', 'giáo', 'dấu_ấn', 'hình_tượng', 'trãi', 'biệt_tích', 'nước_gạo', 'đùa_cợt', 'ý_nghĩ', 'ts', 'tiền_nong', 'tạp_chất', 'sự_nghiệp', 'hăm_hở', 'thậm_chí', 'hương_vị', 'chuỗi', 'tủi_nhục', 'inh_ỏi', 'quan_tài', 'nức_nở', 'bánh_tráng', 'đầm_đìa', 'dưa_gang', 'dưa_hấu', 'phượng', 'chót_vót', 'lừa_dối', 'ra_rìa', 'dày', 'vào_sổ', 'gội', 'còm', 'phức_tạp_hóa', 'say_mê', 'hình_bóng', 'tripod', 'chèn', 'thích_đáng', 'vặn', 'hiển', 'công_cộng', 'không_lưu', 'nung', 'thí', 'phệ', 'tập_huấn', 'tưng_tửng', 'thanh_tra', 'dễ_dãi', 'hứ', 'dv', 'phát_tán', 'virut', 'chợ_đen', 'trêu_chọc', 'rặt', 'dốc', 'quật', 'máu_lửa', 'ss', 'ra_gì', 'sang_năm', 'nhãi', 'nhào', 'babe', 'hoi', 'nằm_vùng', 'rầu', 'rủi', 'nách', 'trơ', 'cọng', 'tân', 'quá_tội', 'trắng_bóc', 'thị_trường', 'gờ', 'giảm_tốc', 'trẩu', 'hôi', 'truy', 'xác_chết', 'pháp_y', 'kỹ_sư', 'trắc_địa', 'paris', 'cảm_thông', 'cảm_động_lòng', 'ông_địa', 'marketing', 'dăm_bảy', 'đười_ươi', 'đào_thải', 'cơ_chế', 'xỏ', 'phản_cảm', 'âm_lịch', 'tên_tuổi', 'nghỉ_hè', 'xõa', 'nhà_báo', 'dở_hơi', 'protein', 'gìn_giữ', 'bảo_tồn', 'lo_nghĩ', 'hàn', 'bất_cẩn', 'chăng', 'có_nhân_tính', 'đoạt', 'oscar', 'mừng_quýnh', 'đánh_thức', 'năn_nỉ', 'gò', 'vấp', 'rành_rành', 'lọt_tai', 'chỉ_đạo', 'gây_sự', 'nản', 'thụ_động', 'chặn_đứng', 'hiện_tượng', 'xuống_cấp', 'vật_liệu', 'chập', 'cộng', 'ăn_tạp', 'thcs', 'phát_âm', 'giao_tiếp', 'phật', 'đại_gia_đình', 'yếu_kém', 'triệu_phú', 'ổ_chuột', 'sơ_sài', 'choét', 'làm_bộ_mặt', 'nhãn_vở', 'mỹ_thuật', 'tình_nguyện_viên', 'hủy', 'vr', 'dục', 'ngoe_nguẩy', 'đáng_lẽ', 'cạ', 'duới', 'amir', 'vol', 'gdinh', 'tự_chủ', 'hươu', 'vượn', 'mưa_gió', 'rét_mướt', 'công_ơn', 'súp_lơ', 'chi_phí', 'kiểm_toán', 'thổ_lộ', 'nhọc', 'nước_nôi', 'be_bét', 'tu_luyện', 'góp_phần', 'nhiếu', 'đất_sét', 'đển', 'phượng_hoàng', 'trấn', 'hồ_sơ', 'thái_bình', 'dầu_lửa', 'nặng_tay', 'cân_treo', 'diễn_tả', 'hẻm', 'cà_khịa', 'ị', 'tình_yêu_thương', 'ngĩ', 'biên_chế', 'chuyên_môn', 'báo_chí', 'phóng_viên', 'nghiêm', 'rét', 'tuyệt_chủng', 'tq', 'nhờn', 'bừa', 'điềm', 'như_thường', 'noel', 'nguyên_xi', 'next', 'kiều', 'dung', 'yên_ổn', 'lén_lút', 'tổng_giám_đốc', 'hu', 'phi_', 'phỏng_vấn', 'idol', 'skill', 'cơ_quan', 'điều_tra', 'danh_tính', 'tấu', 'âm_thanh', 'chối', 'câu_đầu_tiên', 'thoả_đáng', 'định_giá', 'hi', 'noa', 'trung_bình', 'làm_khách', 'qua_lại', 'siêu_thị', 'ác_cảm', 'lùm', 'thỉnh_thoảng', 'tẩy_trang', 'nguyên_hình', 'song_song', 'tính_tình', 'thử_thách', 'first', 'blood', 'double', 'ý_tứ', 'nhẹp', 'gấp_bội', 'than_thở', 'replay', 'đứng_tim', 'nhấp', 'muỗng', 'bạc', 'nói_tục', 'bần_hàn', 'tinh_trùng', 'bán_lẻ', 'nháy_mắt', 'chấp', 'hịn', 'cổ_nhân', 'vọt', 'biểu_cảm', 'phét', 'có_ích', 'quý_báu', 'sinh_mạng', 'sắm', 'biết_nghĩ', 'đức_hạnh', 'cao_cả', 'on', 'nãn', 'suất', 'quấy_rối', 'mịe', 'khốn_kiếp', 'quả_lừa', 'bờ_rào', 'huỷ_hoại', 'mầm_mống', 'vồ', 'lù', 'unlike', 'yêu_cầu', 'sub', 'bt', 'lạng_lách', 'thíck', 'cã', 'đồng_thanh', 'lớ', 'nga', 'lớ_ngớ', 'tự_phát', 'tàn_nhang', 'bỗng', 'ập', 'thọ', 'smart', 'phone', 'idiots', 'tư_sản', 'mại_bản', 'đậu_xanh', 'giỡn', 'laptop', 'hình_vẽ', 'buồn_tẻ', 'bất_công', 'khai_giảng', 'sai_phạm', 'biện_pháp', 'chấm_dứt', 'tan_tành', 'tẹo', 'thẳng_tay', 'mưu_cầu', 'chết_tươi', 'ẹc', 'rược', 'sùm', 'hắt', 'nước_tiểu', 'bấy', 'bề', 'kiê', 'thọc', 'ung_thư', 'tinh', 'hung_ác', 'vơ', 'có_ăn', 'hướng_dẫn', 'rước', 'lún', 'bất', 'dì', 'quết', 'nuôi_dưỡng', 'unesco', 'kỳ_quan', 'chộm', 'chẳng_những', 'nhẹ_nhõm', 'cảnh_ngộ', 'dắt_mũi', 'au', 'trá_hình', 'khì', 'xinh_xắn', 'ngăn_chặn', 'lội', 'không_những', 'thổ', 'aumobile', 'sa_tế', 'bắt_gặp', 'bơ', 'luyện', 'sấp', 'quái_ác', 'ăn_chay', 'bống', 'axit', 'rồ', 'is', 'cổ_chân', 'năng', 'cại', 'chậy', 'giấc', 'ví_dụ', 'không_tưởng', 'bao_tay', 'nhân_đạo', 'cool', 'quí_trọng', 'hình_hài', 'khôn_ngoan', 'phắng', 'nói_thẳng', 'đồng_hành', 'học_trò', 'hồn_nhiên', 'hòm', 'lip', 'đi_cầu', 'từ_biệt', 'rướn', 'pizza', 'kv', 'bình_chánh', 'thành_phần_nào', 'ăn_hiếp', 'vi_sóng', 'hjhj', 'ngoại_tình', 'phàn_nàn', 'rành', 'full', 'đương_đầu', 'vạch', 'làm_nên', 'sốn', 'wao', 'đề_kháng', 'ct', 'nhay', 'ngưỡng', 'bùng_phát', 'phương', 'trường_học', 'chuyên_mục', 'đã_đành', 'sở', 'khanh', 'cẩn_trọng', 'giầy', 'thấu_hiểu', 'icon', 'bcs', 'sag', 'đánh_lộn', 'thuần_phong', 'mỹ_tục', 'ngoa', 'ống', 'tự_do', 'phịch', 'lang_thang', 'vô_nghĩa', 'mìh', 'khổ_tâm', 'bong', 'chó_đẻ', 'rao_giảng', 'nằm_xuống', 'thiên_thời', 'địa_lợi', 'văn_chương', 'thân_thiện', 'tiến_hoá', 'đút', 'lia_lịa', 'oanh_liệt', 'hình_học', 'xe_tải', 'rubic', 'kinh_ngạc', 'mười', 'đấu_trường', 'tứ_linh', 'đao', 'trán', 'làm_phước', 'dư_thừa', 'lò_xo', 'đi_tu', 'ngu_ngơ', 'quốc_khánh', 'bó', 'nhâu', 'tranh_thủ', 'đx', 'nhận_thức', 'thở_dài', 'kịch_tính', 'fr', 'mood', 'nhà_nghỉ', 'chau', 'say_đắm', 'nhói', 'nhích', 'thời_thế', 'đại_loại', 'trai_trẻ', 'đất_đai', 'helo', 'khuya', 'thưởng_thức', 'dống', 'bấy_nhiêu', 'bản_quyền', 'luyến_tiếc', 'ân_cần', 'vũ_khí', 'sinh_học', 'mini', 'giả_sử', 'bỏ_túi', 'lọ', 'never', 'muỗi', 'ăn_liền', 'thiệt_thân', 'trước_hết', 'neu', 'nết', 'nguoi', 'dòng_chảy', 'gạt', 'camry', 'hoang', 'cẩm_ly', 'thành_tâm', 'ghẻ_lạnh', 'tiếp_cận', 'ex', 'bùng', 'nỗ', 'nén', 'cường_quốc', 'hung', 'chuyển_biến', 'cơm_bữa', 'véo', 'siro', 'tức_cười', 'dễ_thở', 'quét_dọn', 'đoá', 'xem_ra', 'giá_cả', 'ẳm', 'sấu', 'tử', 'bình_an', 'làm_chi', 'nờ', 'nện', 'giúp_đỡ', 'nhen', 'phìm', 'hướng_nội', 'cao_thế', 'chạp', 'bh', 'trao_đổi', 'chà_đạp', 'giãy_nảy', 'đỉa', 'vôi', 'trọng_đại', 'phan', 'suy_ngẫm', 'nghia', 'chưng', 'liết', 'khẳng_định', 'chứng_tỏ', 'anh_hùng', 'lưu_ý', 'nhà_hàng', 'li_hôn', 'giảm_giá', 'rỉ', 'sét', 'đep', 'ỏ', 'lẻ', 'nầy', 'chăn_nuôi', 'gia_súc', 'pháo', 'bụt', 'sát_thương', 'bỏ_qua', 'sì', 'tàn_tật', 'tương_tác', 'đk', 'đượm', 'chg', 'bb', 'toàn_bộ', 'cảnh_vật', 'quen_thuộc', 'ngân_sách', 'sửa_sai_lầm', 'đơn_vị', 'tư_pháp', 'lên_tiếng', 'hám', 'thu_ngân', 'hầu_hết', 'karaok', 'phụ_thu', 'nước_ngọt', 'rát', 'thoy', 'tình_báo', 'mẹt', 'hờn_dỗi', 'huyện', 'nghiên_cứu_viên', 'cao_cấp', 'ốp', 'content', 'vk', 'bảo_bối', 'liều_lĩnh', 'lạc_hậu', 'nhịp', 'xl', 'thoa', 'chẳng_qua', 'hoàng_hôn', 'úa', 'justin', 'bieber', 'cừng', 'nguyen', 'liếc', 'boom', 'cá_chép', 'rồng', 'vẫy_vùng', 'hành_vi', 'nội_tâm', 'bong_bóng', 'phát_nổ', 'cia', 'nhy', 'tịnh', 'mác', 'tăm_tối', 'ava', 'pug', 'nghị', 'khởi_tố', 'thổ_nhưỡng', 'tung_hô', 'dải', 'qúa', 'chương', 'làm_bạn', 'nữ_sinh', 'cãi_lộn', 'xuân', 'đúng_đắn', 'follow', 'công_viên', 'nứng', 'con_một', 'niêm', 'ngài', 'lặp', 'thần_sắc', 'thiếu_điều', 'chủ_đề', 'incheon', 'tỉnh_giấc', 'xùm', 'thiêu', 'axít', 'đậm_đặc', 'nhựa', 'tạp_hoá', 'lúng', 'chậm', 'băng_keo', 'công_sức', 'ủi', 'đãi', 'đáng_giá', 'tha_hồ', 'rác_thải', 'nảy', 'mạnh_khoẻ', 'ăn_bớt', 'lả', 'chức_quyền', 'bánh_mì', 'chức', 'trieu', 'mục', 'gia_cầm', 'nhì', 'tẩm_bổ', 'huy', 'chứng_khoán', 'nghĩ_ngợi', 'nẩy', 'tâng_tâng', 'hố_xí', 'sàm', 'típ', 'hách_dịch', 'cõi_lòng', 'thượng_đế', 'cắt_tiết', 'kô', 'ngoan_ngoãn', 'okay', 'mở_miệng', 'vửa', 'phối', 'vô_địch', 'clm', 'võ_nghệ', 'cao_siêu', 'phụ_thuộc', 'hung_khí', 'câm', 'quân', 'triển_lãm', 'truy_cứu', 'căn', 'ngắm_nghía', 'rối_bời', 'all', 'hmm', 'xoè', 'xưa_nay', 'trả_góp', 'sặc_sụa', 'tg', 'quốc_hội', 'vẽ_chuyện', 'quy_mô', 'đối_tác', 'nham', 'toác', 'song', 'chẳng_thể', 'valungtung', 'tanh_bành', 'thủ', 'sẵn', 'hoạng', 'mủ', 'tiến_sĩ', 'thạc_sĩ', 'hình_như_ai', 'dối_trá', 'xanh_mắt', 'lap', 'áo_đầm', 'bất_lực', 'hk', 'động_chạm', 'nhò', 'lộng_hành', 'cuồng_si', 'đa_cấp', 'na_ná', 'why', 'nhắng_nhít', 'hệ', 'mặt_trời', 'tay_lái', 'trốn_tránh', 'đèn_đỏ', 'căm_thù', 'họng', 'lu_mờ', 'không_gian', 'ngập', 'thình_thịch', 'tàu_nhanh', 'clone', 'luộc', 'zombie', 'xúc_động', 'võ_công', 'đùng', 'nguy_hại', 'nghiêp', 'anh_minh', 'định_kiến', 'khắc_nghiệt', 'quẩn', 'tuyên_bố', 'ngơ', 'ju', 'jin', 'thân_thể', 'rán', 'có_khi', 'thu_hút', 'lóc', 'tắm_rửa', 'bản_gốc', 'bản_sao', 'nhè', 'nhường_nhịn', 'bòn_bon', 'good', 'doctor', 'chị_gái', 'nhật_ký', 'hũ', 'mắm_tép', 'and', 'đii', 'kinh_tởm', 'soái', 'cug', 'mây', 'nhè_nhẹ', 'hiu_hiu', 'bthg', 'đồng_chí', 'giã', 'rần_rần', 'tv', 'đồng_nghĩa', 'ghim', 'yên_bình', 'đáp_số', 'khoanh', 'sự_cố', 'kỷ_luật', 'vây', 'bằng_không', 'dong', 'mưu_mô', 'xảo_quyệt', 'vượt', 'sạc', 'sến', 'súa', 'cầu_kì', 'ô_nhục', 'ngon_ăn', 'hịu', 'sửu', 'nhi', 'couple', 'tần', 'lệnh', 'tạm', 'công_bố', 'léo_nhéo', 'hoạt_hình', 'xới', 'khét_lẹt', 'rún', 'kéo_lại', 'bằng_lòng', 'trg', 'vks', 'tận_tâm', 'tờ_rơi', 'skin', 'yasuo', 'bàn_luận', 'dữ_dội', 'vạy', 'xù', 'nhạo', 'đoan', 'nếu_như', 'nếm', 'đại_cao_thủ', 'xe_bò', 'mả', 'quây', 'cuộc_chơi', 'miss', 'mù_quáng', 'giao_phối', 'quẩy', 'viêm', 'màn', 'danh_hài', 'topic', 'anh_trai', 'khám_phá', 'bằng_cấp', 'ăn_tiêu', 'lu', 'miên', 'nl', 'lon', 'hoang_đường', 'cô_giáo_chủ_nhiệm', 'tráo_trở', 'thương_xót', 'zị', 'phạm_tội', 'ẩn', 'mũm_mĩm', 'dzậy', 'bị_gậy', 'đóng_dấu', 'lõi_đời', 'tạm_thời', 'ru', 'vua', 'phi_hành_gia', 'lăng_loàn', 'yếu_thế', 'khôg', 'tử_tế', 'kinh_hồn', 'đánh_rắm', 'tuổi_tác', 'cử_chỉ', 'tục_tĩu', 'ranh_giới', 'vãn', 'cố_chấp', 'tội_phạm', 'lì', 'úp', 'quánh', 'hết_hơi', 'đỏ_hỏn', 'nghiền', 'hành_lang', 'đường_sắt', 'liệt', 'tự_tử', 'tập_trung', 'giỗ', 'có_lí_do', 'thuyết', 'bầu_trời', 'một_hơi', 'lơ_lửng', 'thì_thầm', 'dượng', 'đứt_ruột', 'nhắm', 'dhs', 'style', 'yếu_tố', 'ph', 'bỏ_mình', 'lốp', 'kịp_thời', 'dưỡng', 'tập_thể', 'thành_viên', 'gvcn', 'vô_lí', 'có_lý', 'đưa_đón', 'hầu', 'đục_khoét', 'duyên_dáng', 'nặng_nề', 'xỉn', 'đầu_vào', 'vừa_mới', 'hqua', 'thực_lực', 'mật_vụ', 'điện_thế', 'thoả', 'để_tâm', 'thự', 'mv', 'phải_biết', 'tâm_thần', 'rắn_rết', 'đại_từ', 'lắc', 'hạ_cánh', 'lổi', 'kỹ_thuật', 'thừng', 'xẻ', 'ngậm_ngùi', 'tạ', 'nghiêm_chỉnh', 'đồ_đạc', 'hẳn_hoi', 'ngạt', 'xu', 'kếch_xù', 'sụp', 'téo', 'đường_thẳng', 'bịp', 'sms', 'cr', 'nhái', 'wtf', 'trỗ', 'của_cải', 'ý_chí', 'chí', 'tiến_thủ', 'quyến_rũ', 'cán', 'every', 'where', 'giằng_xé', 'điển_trai', 'máy_tính', 'húp', 'mới_đó', 'hòi', 'hun', 'nhéo', 'quỳnh', 'xiu', 'tiểu_thuyết', 'quan_niệm', 'hiến', 'chẳng_hạn', 'vui_chơi', 'thì_thôi', 'mua_chuộc', 'eo_ôi', 'rốt_cuộc', 'cồng', 'kền', 'tin_vui', 'bà_con', 'chuân', 'chiện', 'khẩn_cấp', 'hnao', 'nhằng_nhằng', 'khai_phá', 'vững_tâm', 'điều_độ', 'nửa_đêm', 'hò_hét', 'nỗ_lực', 'valentine', 'phượt', 'bữa_nay', 'vô_lăng', 'tỳ', 'mít_ướt', 'trót', 've_sầu', 'xinh_đẹp', 'bán_hoa', 'trổi', 'đẹp_lão', 'giay', 'đời_mới', 'nhập_viện', 'xong_đời', 'nthe', 'gia_công', 'sản_xuất', 'thương_hiệu', 'quốc_gia', 'khát_vọng', 'tua', 'vô_cực', 'gởi', 'phiêu_lưu', 'lạc_lõng', 'tềnh', 'lú', 'gạ', 'nốt_nhạc', 'trung_ương', 'đoi', 'run_rẩy', 'săn_sóc', 'bảo_kê', 'tán_loạn', 'vô_ơn', 'ba_má', 'kê', 'phong_độ', 'ăn_mặc', 'kia_mà', 'đôi_co', 'douma', 'nài_nỉ', 'vừa_rồi', 'ít_ra', 'êm', 're', 'quá_chừng', 'chà_bá', 'nhừ_tử', 'kìm_nén', 'huawei', 'nhân_tài', 'công_trình', 'năm_tuổi', 'không_khéo', 'toe_toét', 'trống_vắng', 'tôn', 'lợp', 'đẹo', 'yêu_quý', 'hiền_thục', 'tâm_tính', 'hiếu_thảo', 'tổ_quốc', 'dê', 'thọt', 'chiến_tích', 'bực_mình', 'ùa', 'vỗ_tay', 'thu_thập', 'trạng_thái', 'thế_kỷ', 'tiêu_tan', 'kĩ_lưỡng', 'tác_phong', 'ruộng', 'lạ_lẫm', 'khởi', 'song_hành', 'nasa', 'kênh', 'bắt_cái', 'nợ_nần', 'chồng_chất', 'đại_lý', 'phất', 'cọ', 'phiên_bản', 'lê', 'nước_mắm', 'ngư', 'súng_ống', 'chét', 'miễn_sao', 'bền_vững', 'gét', 'mất_hút', 'tê_tê', 'như_không', 'đẫy_đà', 'ngon_ngọt', 'chêu', 'khái_niệm', 'hello', 'thực_hiện', 'gian', 'âu', 'chấn_thương', 'xúm', 'hội_đồng', 'tài_nguyên', 'bộ_óc', 'tài_giỏi', 'ngắn_hạn', 'dẫn_dắt', 'giếng', 'huế', 'phẳng_lặng', 'nèo', 'phước', 'chủ_lực', 'bi_đát', 'tâm_sức', 'lòng_dạ', 'sỏi', 'khiếu_nại', 'bao_che', 'hàng_họ', 'nhạt_nhẽo', 'di_sản', 'chứng_tích', 'tích_tụ', 'sâu_lắng', 'ồ_ồ', 'kỷ', 'ngớ_ngẩn', 'rũ', 'chửa', 'ngoc', 'hen', 'chính_hiệu', 'giấc_ngủ', 'anime', 'buff', 'lộn_xộn', 'vô_giá', 'thay_thế', 'hicc', 'ốc', 'bạo', 'chắc_hẳn', 'guitar', 'bây_giờ_đây', 'tài_chính', 'dụng_võ', 'rồi_đây', 'chạm', 'youtuber', 'sảng_khoái', 'lồ', 'quằn', 'thiến', 'bắp_tay', 'hờn', 'polime', 'rụng_rời', 'đếch', 'giải_tán', 'hối_tiếc', 'nhu_nhược', 'mảng', 'tuyên_truyền', 'rủi_ro', 'ăn_cám', 'quen_biết', 'giùm', 'sất', 'mới_phải', 'soạn', 'hạn_hẹp', 'làm_ơn', 'có_tình', 'dân_chơi', 'mặc_niệm', 'vong_linh', 'sân_bay', 'mô', 'ngây', 'xâ', 'mario', 'zồi', 'tú', 'giáo_khoa', 'nâu', 'mừ', 'mưu_sinh', 'chửi_mắng', 'lắng_nghe', 'xấc_xược', 'tỏ_vẻ', 'ta_đây', 'chỉa', 'trym', 'khắm', 'adim', 'mớm', 'công_sở', 'khiếu', 'vui_tươi', 'khích_lệ', 'nhình', 'cảm_tình', 'coffee', 'chong_chóng', 'mượt', 'truyền_thống', 'tác', 'cổ_phần', 'lan', 'nk', 'thé', 'bổn', 'hihihi', 'loat', 'nhẫn_tâm', 'call', 'mất_tích', 'nhân_quả', 'cho_dù', 'kinh_điển', 'siêng', 'miễn_là', 'bảo_tàng', 'hc', 'nghiên_cứu', 'tê_giác', 'chữa', 'truy_nã', 'miến', 'kiêng_nể', 'rình_rập', 'trắc', 'bệnh_tật', 'nhập_nhằng', 'bẩn_thỉu', 'quê_quán', 'group', 'cuộn', 'keo', 'internet', 'ngốc_nghếch', 'cúi', 'sơ_hở', 'rón_rén', 'đớp', 'ngờ_nghệch', 'nấy', 'xã', 'quả_đất', 'nhà_lầu', 'đùn_đẩy', 'li_kì', 'sạt_nghiệp', 'mấu_chốt', 'ứng_dụng', 'hana', 'sát', 'đồng_tính', 'thượng_hạng', 'đục', 'ốm_đau', 'vỏn_vẹn', 'sáng_kiến', 'tiêu_hủy', 'tình_nghĩa', 'than_vãn', 'bon_chen', 'giành', 'con_trẻ', 'đớn_đau', 'đau_buồn', 'khát', 'cườ', 'lệch', 'tươi_cười', 'niềm_nở', 'đầu_thai', 'tháy', 'lo_lắng', 'cng', 'lâu_lắc', 'vừa_ý_nghĩa', 'gắng', 'lan_tỏa', 'masage', 'chạy_điện', 'choáng', 'mề', 'ngọai', 'nưa', 'khế', 'nhà_giáo', 'xoá_sổ', 'toàn_phần', 'cơ_sở', 'tiêm', 'thuốc_độc', 'binh', 'giám', 'tố_cáo', 'thẩm_phán', 'heheh', 'lồng_lộn', 'evn', 'lươn_lẹo', 'ông_tổ', 'đĩ_điếm', 'ỉn', 'chạ', 'tiếng_thế', 'thượt', 'chồi', 'trống_rỗng', 'sao_chép', 'phựt', 'cơ_bản', 'cảnh_tỉnh', 'hiện_nay', 'bỏ_bà', 'bục', 'giảng', 'sểnh', 'tỵ', 'lạm_dụng', 'tách', 'lỏng_lẻo', 'nhỡ', 'đn', 'địa_chỉ', 'treo', 'tiêu_chuẩn', 'tml', 'cất', 'tủi_hổ', 'hình_dạng', 'viết_tay', 'nhài', 'giả_dối', 'guru', 'rủa', 'lẩu', 'ấu', 'mất_giá', 'hợp_tác', 'chiến_lược', 'nam_tính', 'chi_tử', 'ngặt', 'ngăn_cản', 'kịch_liệt', 'ron', 'khích', 'vinh_quang', 'nicholas', 'liang', 'chyện', 'to_đùng', 'năng_lượng', 'chỉnh_hình', 'sườn', 'truất', 'tròn', 'ung_ủng', 'ngẵn', 'rau_má', 'về_vườn', 'hoan', 'hy', 'hả_hê', 'cửa_sổ', 'thõa', 'ghê_gớm', 'l', 'chìa_khoá', 'tự_tin', 'kịp_thời_đại', 'rựa', 'nhất_thiết', 'cầu_đường', 'lan_can', 'cây_cối', 'y_nguyên', 'ngần', 'khuất', 'chs', 'lạp_xưởng', 'buồn_bực', 'căm', 'xuýt', 'tự_động', 'độc_nhất', 'nhị', 'ghẻ', 'tạo_hoá', 'lố_lăng', 'truong', 'hop', 'su', 'lam', 'xua', 'sanh', 'khám', 'đàng', 'thoả_mãn', 'thực_đơn', 'suy_sụp', 'bảo_đảm', 'tiêu_chảy', 'kèm', 'chẳng_lẽ', 'sh', 'ngông_nghênh', 'sĩ', 'lợi', 'note', 'ghi_chú', 'ký_túc_xá', 'gắt_gỏng', 'trong_sáng', 'heee', 'riền', 'áo_quần', 'tóc_tai', 'lủng', 'hàng_rào', 'vê', 'nghiệm', 'lom', 'dom', 'nghe_ngóng', 'buồng_trứng', 'tình_nhân', 'biet', 'tiep', 'mới_đầu', 'hiếm', 'sáp', 'tnao', 'khỏe_mạnh', 'rú', 'lầm_lì', 'mợt', 'ngữ_khí', 'găng_tay', 'lết', 'balo', 'chững_chạc', 'vắng', 'vừa_qua', 'abcxyz', 'vật_lý', 'logic', 'mền', 'pải', 'mạnh_dạn', 'rv', 'bùa', 'ngải', 'nước_miếng', 'nhưnh', 'vương_miện', 'thix', 'ipx', 'ngơ_ngác', 'chết_cha', 'nước_đái', 'gơm', 'xồ', 'kakaka', 'cắp', 'quái_đản', 'găp', 'lơn', 'thất', 'nhảy_múa', 'ngất_xỉu', 'tĩnh', 'sau_cùng', 'trầm_trọng', 'ùi', 'suong', 'bjt', 'đuông', 'dừa', 'đư', 'queo', 'nhan', 'nhỏ_nhoi']\n"
     ]
    }
   ],
   "source": [
    "embedding_matrix,word_is_trained = generate_embedding(word_index,word_embedding,EMBEDDING_DIM)\n",
    "print(word_is_trained)"
   ]
  },
  {
   "cell_type": "markdown",
   "metadata": {
    "id": "VjvoCKFAsKEK"
   },
   "source": [
    "# VI.Attention Layer"
   ]
  },
  {
   "cell_type": "code",
   "execution_count": 18,
   "metadata": {
    "id": "8oYeHeBL-wqO"
   },
   "outputs": [],
   "source": [
    "def dot_product(x, kernel):\n",
    "\tif K.backend() == 'tensorflow':\n",
    "\t\treturn K.squeeze(K.dot(x, K.expand_dims(kernel)), axis=-1)\n",
    "\telse:\n",
    "\t\treturn K.dot(x, kernel)\n",
    "\n",
    "class AttentionWithContext(Layer):\n",
    "\tdef __init__(self,\n",
    "\t\t\t\t W_regularizer=None, u_regularizer=None, b_regularizer=None,\n",
    "\t\t\t\t W_constraint=None, u_constraint=None, b_constraint=None,\n",
    "\t\t\t\t bias=True, **kwargs):\n",
    "\t\tself.supports_masking = True\n",
    "\t\tself.init = initializers.get('glorot_uniform')\n",
    "\t\tself.W_regularizer = regularizers.get(W_regularizer)\n",
    "\t\tself.u_regularizer = regularizers.get(u_regularizer)\n",
    "\t\tself.b_regularizer = regularizers.get(b_regularizer)\n",
    "\t\tself.W_constraint = constraints.get(W_constraint)\n",
    "\t\tself.u_constraint = constraints.get(u_constraint)\n",
    "\t\tself.b_constraint = constraints.get(b_constraint)\n",
    "\t\tself.bias = bias\n",
    "\t\tsuper(AttentionWithContext, self).__init__(**kwargs)\n",
    "\n",
    "\tdef build(self, input_shape):\n",
    "\t\tassert len(input_shape) == 3\n",
    "\n",
    "\t\tself.W = self.add_weight((input_shape[-1], input_shape[-1],),\n",
    "\t\t\t\t\t\t\t\t initializer=self.init,\n",
    "\t\t\t\t\t\t\t\t name='{}_W'.format(self.name),\n",
    "\t\t\t\t\t\t\t\t regularizer=self.W_regularizer,\n",
    "\t\t\t\t\t\t\t\t constraint=self.W_constraint)\n",
    "\t\tif self.bias:\n",
    "\t\t\tself.b = self.add_weight((input_shape[-1],),\n",
    "\t\t\t\t\t\t\t\t\t initializer='zero',\n",
    "\t\t\t\t\t\t\t\t\t name='{}_b'.format(self.name),\n",
    "\t\t\t\t\t\t\t\t\t regularizer=self.b_regularizer,\n",
    "\t\t\t\t\t\t\t\t\t constraint=self.b_constraint)\n",
    "\n",
    "\t\tself.u = self.add_weight((input_shape[-1],),\n",
    "\t\t\t\t\t\t\t\t initializer=self.init,\n",
    "\t\t\t\t\t\t\t\t name='{}_u'.format(self.name),\n",
    "\t\t\t\t\t\t\t\t regularizer=self.u_regularizer,\n",
    "\t\t\t\t\t\t\t\t constraint=self.u_constraint)\n",
    "\n",
    "\t\tsuper(AttentionWithContext, self).build(input_shape)\n",
    "\n",
    "\tdef compute_mask(self, input, input_mask=None):\n",
    "\t\treturn None\n",
    "\tdef call(self, x, mask=None):\n",
    "\t\tuit = dot_product(x, self.W)\n",
    "\t\tif self.bias:\n",
    "\t\t\tuit += self.b\n",
    "\t\tuit = K.tanh(uit)\n",
    "\t\tait = dot_product(uit, self.u)\n",
    "\t\ta = K.exp(ait)\n",
    "\t\tif mask is not None:\n",
    "\t\t\ta *= K.cast(mask, K.floatx())\n",
    "\t\ta /= K.cast(K.sum(a, axis=1, keepdims=True) + K.epsilon(), K.floatx())\n",
    "\t\ta = K.expand_dims(a)\n",
    "\t\tweighted_input = x * a\n",
    "\t\treturn weighted_input\n",
    "\n",
    "\tdef compute_output_shape(self, input_shape):\n",
    "\t\treturn input_shape[0], input_shape[1], input_shape[2]\n",
    "\n",
    "class Addition(Layer):\n",
    "\tdef __init__(self, **kwargs):\n",
    "\t\tsuper(Addition, self).__init__(**kwargs)\n",
    "\n",
    "\tdef build(self, input_shape):\n",
    "\t\tself.output_dim = input_shape[-1]\n",
    "\t\tsuper(Addition, self).build(input_shape)\n",
    "\n",
    "\tdef call(self, x):\n",
    "\t\treturn K.sum(x, axis=1)\n",
    "\n",
    "\tdef compute_output_shape(self, input_shape):\n",
    "\t\treturn (input_shape[0], self.output_dim)"
   ]
  },
  {
   "cell_type": "markdown",
   "metadata": {
    "id": "OrCQ522csUQ0"
   },
   "source": [
    "## 1.Build mode LSTM"
   ]
  },
  {
   "cell_type": "code",
   "execution_count": 20,
   "metadata": {
    "colab": {
     "base_uri": "https://localhost:8080/"
    },
    "id": "8b-4SQdfzFQ8",
    "outputId": "60552dce-e60c-48f2-8080-3a6320d12cea"
   },
   "outputs": [
    {
     "name": "stdout",
     "output_type": "stream",
     "text": [
      "WARNING:tensorflow:Large dropout rate: 0.75 (>0.5). In TensorFlow 2.x, dropout() uses dropout rate instead of keep_prob. Please ensure that this is intended.\n",
      "Train on 5548 samples, validate on 686 samples\n",
      "Epoch 1/100\n",
      "5548/5548 [==============================] - 3s 466us/step - loss: 1.7804 - acc: 0.2848 - val_loss: 1.5595 - val_acc: 0.3761\n",
      "Epoch 2/100\n",
      "5548/5548 [==============================] - 2s 406us/step - loss: 1.6798 - acc: 0.3371 - val_loss: 1.5484 - val_acc: 0.4125\n",
      "Epoch 3/100\n",
      "5548/5548 [==============================] - 2s 403us/step - loss: 1.5636 - acc: 0.3982 - val_loss: 1.4923 - val_acc: 0.4723\n",
      "Epoch 4/100\n",
      "5548/5548 [==============================] - 2s 403us/step - loss: 1.5181 - acc: 0.4212 - val_loss: 1.3624 - val_acc: 0.5058\n",
      "Epoch 5/100\n",
      "5548/5548 [==============================] - 2s 405us/step - loss: 1.4609 - acc: 0.4409 - val_loss: 1.3602 - val_acc: 0.5044\n",
      "Epoch 6/100\n",
      "5548/5548 [==============================] - 2s 404us/step - loss: 1.4114 - acc: 0.4611 - val_loss: 1.3483 - val_acc: 0.4956\n",
      "Epoch 7/100\n",
      "5548/5548 [==============================] - 2s 400us/step - loss: 1.3806 - acc: 0.4744 - val_loss: 1.3417 - val_acc: 0.4942\n",
      "Epoch 8/100\n",
      "5548/5548 [==============================] - 2s 403us/step - loss: 1.3315 - acc: 0.4930 - val_loss: 1.3679 - val_acc: 0.4971\n",
      "Epoch 9/100\n",
      "5548/5548 [==============================] - 2s 402us/step - loss: 1.3041 - acc: 0.5070 - val_loss: 1.3282 - val_acc: 0.4913\n",
      "Epoch 10/100\n",
      "5548/5548 [==============================] - 2s 405us/step - loss: 1.2737 - acc: 0.5173 - val_loss: 1.2846 - val_acc: 0.5335\n",
      "Epoch 11/100\n",
      "5548/5548 [==============================] - 2s 407us/step - loss: 1.2258 - acc: 0.5360 - val_loss: 1.3635 - val_acc: 0.5117\n",
      "Epoch 12/100\n",
      "5548/5548 [==============================] - 2s 404us/step - loss: 1.2123 - acc: 0.5395 - val_loss: 1.3322 - val_acc: 0.5087\n",
      "Epoch 13/100\n",
      "5548/5548 [==============================] - 2s 401us/step - loss: 1.1871 - acc: 0.5561 - val_loss: 1.2892 - val_acc: 0.5219\n",
      "Epoch 14/100\n",
      "5548/5548 [==============================] - 2s 405us/step - loss: 1.1589 - acc: 0.5652 - val_loss: 1.2551 - val_acc: 0.5364\n",
      "Epoch 15/100\n",
      "5548/5548 [==============================] - 2s 405us/step - loss: 1.1382 - acc: 0.5759 - val_loss: 1.3068 - val_acc: 0.5262\n",
      "Epoch 16/100\n",
      "5548/5548 [==============================] - 2s 401us/step - loss: 1.1192 - acc: 0.5854 - val_loss: 1.2817 - val_acc: 0.5248\n",
      "Epoch 17/100\n",
      "5548/5548 [==============================] - 2s 401us/step - loss: 1.0860 - acc: 0.6002 - val_loss: 1.2761 - val_acc: 0.5496\n",
      "Epoch 18/100\n",
      "5548/5548 [==============================] - 2s 403us/step - loss: 1.0711 - acc: 0.6009 - val_loss: 1.2941 - val_acc: 0.5510\n",
      "Epoch 19/100\n",
      "5548/5548 [==============================] - 2s 402us/step - loss: 1.0235 - acc: 0.6175 - val_loss: 1.3149 - val_acc: 0.5437\n",
      "Epoch 20/100\n",
      "5548/5548 [==============================] - 2s 403us/step - loss: 1.0099 - acc: 0.6309 - val_loss: 1.3162 - val_acc: 0.5321\n",
      "Epoch 21/100\n",
      "5548/5548 [==============================] - 2s 403us/step - loss: 1.0235 - acc: 0.6296 - val_loss: 1.3673 - val_acc: 0.5408\n",
      "Epoch 22/100\n",
      "5548/5548 [==============================] - 2s 402us/step - loss: 0.9778 - acc: 0.6433 - val_loss: 1.3854 - val_acc: 0.5379\n",
      "Epoch 23/100\n",
      "5548/5548 [==============================] - 2s 406us/step - loss: 0.9692 - acc: 0.6462 - val_loss: 1.3120 - val_acc: 0.5277\n",
      "Epoch 24/100\n",
      "5548/5548 [==============================] - 2s 403us/step - loss: 0.9405 - acc: 0.6539 - val_loss: 1.3810 - val_acc: 0.5350\n",
      "Epoch 25/100\n",
      "5548/5548 [==============================] - 2s 405us/step - loss: 0.9232 - acc: 0.6611 - val_loss: 1.4221 - val_acc: 0.5277\n",
      "Epoch 26/100\n",
      "5548/5548 [==============================] - 2s 408us/step - loss: 0.9090 - acc: 0.6638 - val_loss: 1.3754 - val_acc: 0.5423\n",
      "Epoch 27/100\n",
      "5548/5548 [==============================] - 2s 405us/step - loss: 0.8839 - acc: 0.6756 - val_loss: 1.3974 - val_acc: 0.5248\n",
      "Epoch 28/100\n",
      "5548/5548 [==============================] - 2s 403us/step - loss: 0.8772 - acc: 0.6873 - val_loss: 1.4652 - val_acc: 0.5306\n",
      "Epoch 29/100\n",
      "5548/5548 [==============================] - 2s 402us/step - loss: 0.8539 - acc: 0.6885 - val_loss: 1.4327 - val_acc: 0.5394\n",
      "Epoch 30/100\n",
      "5548/5548 [==============================] - 2s 407us/step - loss: 0.8485 - acc: 0.6907 - val_loss: 1.5453 - val_acc: 0.5277\n",
      "Epoch 31/100\n",
      "5548/5548 [==============================] - 2s 400us/step - loss: 0.8290 - acc: 0.7030 - val_loss: 1.4808 - val_acc: 0.5306\n",
      "Epoch 32/100\n",
      "5548/5548 [==============================] - 2s 408us/step - loss: 0.8194 - acc: 0.7046 - val_loss: 1.4493 - val_acc: 0.5321\n",
      "Epoch 33/100\n",
      "5548/5548 [==============================] - 2s 410us/step - loss: 0.8014 - acc: 0.7111 - val_loss: 1.4998 - val_acc: 0.5408\n",
      "Epoch 34/100\n",
      "5548/5548 [==============================] - 2s 407us/step - loss: 0.7918 - acc: 0.7105 - val_loss: 1.4446 - val_acc: 0.5452\n",
      "Epoch 35/100\n",
      "5548/5548 [==============================] - 2s 405us/step - loss: 0.7763 - acc: 0.7138 - val_loss: 1.5477 - val_acc: 0.5321\n",
      "Epoch 36/100\n",
      "5548/5548 [==============================] - 2s 403us/step - loss: 0.7647 - acc: 0.7239 - val_loss: 1.5273 - val_acc: 0.5379\n",
      "Epoch 37/100\n",
      "5548/5548 [==============================] - 2s 404us/step - loss: 0.7689 - acc: 0.7186 - val_loss: 1.4836 - val_acc: 0.5423\n",
      "Epoch 38/100\n",
      "5548/5548 [==============================] - 2s 405us/step - loss: 0.7407 - acc: 0.7334 - val_loss: 1.4920 - val_acc: 0.5321\n",
      "Epoch 39/100\n",
      "5548/5548 [==============================] - 2s 405us/step - loss: 0.7352 - acc: 0.7271 - val_loss: 1.5162 - val_acc: 0.5277\n",
      "Epoch 40/100\n",
      "5548/5548 [==============================] - 2s 408us/step - loss: 0.7197 - acc: 0.7432 - val_loss: 1.5530 - val_acc: 0.5233\n",
      "Epoch 41/100\n",
      "5548/5548 [==============================] - 2s 409us/step - loss: 0.7291 - acc: 0.7307 - val_loss: 1.5632 - val_acc: 0.5277\n",
      "Epoch 42/100\n",
      "5548/5548 [==============================] - 2s 414us/step - loss: 0.6863 - acc: 0.7439 - val_loss: 1.6637 - val_acc: 0.5117\n",
      "Epoch 43/100\n",
      "5548/5548 [==============================] - 2s 409us/step - loss: 0.6934 - acc: 0.7453 - val_loss: 1.6087 - val_acc: 0.5160\n",
      "Epoch 44/100\n",
      "5548/5548 [==============================] - 2s 410us/step - loss: 0.6869 - acc: 0.7563 - val_loss: 1.6230 - val_acc: 0.5233\n",
      "Epoch 45/100\n",
      "5548/5548 [==============================] - 2s 411us/step - loss: 0.6777 - acc: 0.7525 - val_loss: 1.6459 - val_acc: 0.5175\n",
      "Epoch 46/100\n",
      "5548/5548 [==============================] - 2s 410us/step - loss: 0.6590 - acc: 0.7556 - val_loss: 1.6286 - val_acc: 0.5292\n",
      "Epoch 47/100\n",
      "5548/5548 [==============================] - 2s 410us/step - loss: 0.6852 - acc: 0.7482 - val_loss: 1.5995 - val_acc: 0.5160\n",
      "Epoch 48/100\n",
      "5548/5548 [==============================] - 2s 412us/step - loss: 0.6666 - acc: 0.7493 - val_loss: 1.6787 - val_acc: 0.5219\n",
      "Epoch 49/100\n",
      "5548/5548 [==============================] - 2s 409us/step - loss: 0.6527 - acc: 0.7583 - val_loss: 1.6983 - val_acc: 0.5219\n",
      "Epoch 50/100\n",
      "5548/5548 [==============================] - 2s 410us/step - loss: 0.6498 - acc: 0.7637 - val_loss: 1.6494 - val_acc: 0.5131\n",
      "Epoch 51/100\n",
      "5548/5548 [==============================] - 2s 409us/step - loss: 0.6413 - acc: 0.7657 - val_loss: 1.7579 - val_acc: 0.5233\n",
      "Epoch 52/100\n",
      "5548/5548 [==============================] - 2s 415us/step - loss: 0.6217 - acc: 0.7738 - val_loss: 1.6530 - val_acc: 0.5190\n",
      "Epoch 53/100\n",
      "5548/5548 [==============================] - 2s 411us/step - loss: 0.6211 - acc: 0.7671 - val_loss: 1.6649 - val_acc: 0.5190\n",
      "Epoch 54/100\n",
      "5548/5548 [==============================] - 2s 407us/step - loss: 0.6038 - acc: 0.7736 - val_loss: 1.6991 - val_acc: 0.5204\n",
      "Epoch 55/100\n",
      "5548/5548 [==============================] - 2s 412us/step - loss: 0.5957 - acc: 0.7877 - val_loss: 1.7455 - val_acc: 0.5073\n",
      "Epoch 56/100\n",
      "5548/5548 [==============================] - 2s 408us/step - loss: 0.6109 - acc: 0.7752 - val_loss: 1.7449 - val_acc: 0.5175\n",
      "Epoch 57/100\n",
      "5548/5548 [==============================] - 2s 409us/step - loss: 0.6057 - acc: 0.7743 - val_loss: 1.7798 - val_acc: 0.5233\n",
      "Epoch 58/100\n",
      "5548/5548 [==============================] - 2s 412us/step - loss: 0.6027 - acc: 0.7826 - val_loss: 1.7088 - val_acc: 0.5219\n",
      "Epoch 59/100\n",
      "5548/5548 [==============================] - 2s 409us/step - loss: 0.5848 - acc: 0.7904 - val_loss: 1.7311 - val_acc: 0.5277\n",
      "Epoch 60/100\n",
      "5548/5548 [==============================] - 2s 413us/step - loss: 0.5620 - acc: 0.7913 - val_loss: 1.8710 - val_acc: 0.5233\n",
      "Epoch 61/100\n",
      "5548/5548 [==============================] - 2s 411us/step - loss: 0.5899 - acc: 0.7859 - val_loss: 1.8035 - val_acc: 0.5117\n",
      "Epoch 62/100\n",
      "5548/5548 [==============================] - 2s 405us/step - loss: 0.5668 - acc: 0.7947 - val_loss: 1.8165 - val_acc: 0.4985\n",
      "Epoch 63/100\n",
      "5548/5548 [==============================] - 2s 406us/step - loss: 0.5575 - acc: 0.7915 - val_loss: 1.8654 - val_acc: 0.5175\n",
      "Epoch 64/100\n",
      "5548/5548 [==============================] - 2s 403us/step - loss: 0.5675 - acc: 0.7942 - val_loss: 1.8069 - val_acc: 0.5146\n",
      "Epoch 65/100\n",
      "5548/5548 [==============================] - 2s 405us/step - loss: 0.5578 - acc: 0.8073 - val_loss: 1.8118 - val_acc: 0.5175\n",
      "Epoch 66/100\n",
      "5548/5548 [==============================] - 2s 405us/step - loss: 0.5257 - acc: 0.8097 - val_loss: 1.9076 - val_acc: 0.5087\n",
      "Epoch 67/100\n",
      "5548/5548 [==============================] - 2s 405us/step - loss: 0.5292 - acc: 0.8064 - val_loss: 1.8811 - val_acc: 0.5029\n",
      "Epoch 68/100\n",
      "5548/5548 [==============================] - 2s 405us/step - loss: 0.5377 - acc: 0.8046 - val_loss: 1.8248 - val_acc: 0.5190\n",
      "Epoch 69/100\n",
      "5548/5548 [==============================] - 2s 410us/step - loss: 0.5274 - acc: 0.8097 - val_loss: 1.7703 - val_acc: 0.5219\n",
      "Epoch 70/100\n",
      "5548/5548 [==============================] - 2s 407us/step - loss: 0.5244 - acc: 0.8107 - val_loss: 1.8709 - val_acc: 0.5146\n",
      "Epoch 71/100\n",
      "5548/5548 [==============================] - 2s 406us/step - loss: 0.5093 - acc: 0.8171 - val_loss: 1.8537 - val_acc: 0.5233\n",
      "Epoch 72/100\n",
      "5548/5548 [==============================] - 2s 412us/step - loss: 0.5231 - acc: 0.8107 - val_loss: 1.7799 - val_acc: 0.5321\n",
      "Epoch 73/100\n",
      "5548/5548 [==============================] - 2s 409us/step - loss: 0.5211 - acc: 0.8131 - val_loss: 1.8335 - val_acc: 0.5190\n",
      "Epoch 74/100\n",
      "5548/5548 [==============================] - 2s 404us/step - loss: 0.5104 - acc: 0.8180 - val_loss: 1.8322 - val_acc: 0.5131\n",
      "Epoch 75/100\n",
      "5548/5548 [==============================] - 2s 405us/step - loss: 0.5045 - acc: 0.8129 - val_loss: 1.8499 - val_acc: 0.5131\n",
      "Epoch 76/100\n",
      "5548/5548 [==============================] - 2s 405us/step - loss: 0.4857 - acc: 0.8194 - val_loss: 1.9426 - val_acc: 0.5146\n",
      "Epoch 77/100\n",
      "5548/5548 [==============================] - 2s 408us/step - loss: 0.4732 - acc: 0.8306 - val_loss: 1.9549 - val_acc: 0.5131\n",
      "Epoch 78/100\n",
      "5548/5548 [==============================] - 2s 407us/step - loss: 0.4801 - acc: 0.8253 - val_loss: 1.8910 - val_acc: 0.5204\n",
      "Epoch 79/100\n",
      "5548/5548 [==============================] - 2s 404us/step - loss: 0.4817 - acc: 0.8253 - val_loss: 1.8932 - val_acc: 0.5292\n",
      "Epoch 80/100\n",
      "5548/5548 [==============================] - 2s 404us/step - loss: 0.4786 - acc: 0.8273 - val_loss: 1.8291 - val_acc: 0.5131\n",
      "Epoch 81/100\n",
      "5548/5548 [==============================] - 2s 406us/step - loss: 0.4818 - acc: 0.8228 - val_loss: 1.9866 - val_acc: 0.5190\n",
      "Epoch 82/100\n",
      "5548/5548 [==============================] - 2s 407us/step - loss: 0.4876 - acc: 0.8250 - val_loss: 1.9323 - val_acc: 0.5233\n",
      "Epoch 83/100\n",
      "5548/5548 [==============================] - 2s 404us/step - loss: 0.4590 - acc: 0.8344 - val_loss: 1.9244 - val_acc: 0.5306\n",
      "Epoch 84/100\n",
      "5548/5548 [==============================] - 2s 405us/step - loss: 0.4586 - acc: 0.8320 - val_loss: 2.0436 - val_acc: 0.5190\n",
      "Epoch 85/100\n",
      "5548/5548 [==============================] - 2s 406us/step - loss: 0.4589 - acc: 0.8307 - val_loss: 1.8874 - val_acc: 0.5321\n",
      "Epoch 86/100\n",
      "5548/5548 [==============================] - 2s 407us/step - loss: 0.4584 - acc: 0.8340 - val_loss: 1.9868 - val_acc: 0.5321\n",
      "Epoch 87/100\n",
      "5548/5548 [==============================] - 2s 407us/step - loss: 0.4568 - acc: 0.8344 - val_loss: 2.1088 - val_acc: 0.5204\n",
      "Epoch 88/100\n",
      "5548/5548 [==============================] - 2s 407us/step - loss: 0.4424 - acc: 0.8414 - val_loss: 1.9866 - val_acc: 0.5117\n",
      "Epoch 89/100\n",
      "5548/5548 [==============================] - 2s 405us/step - loss: 0.4486 - acc: 0.8331 - val_loss: 2.0731 - val_acc: 0.5160\n",
      "Epoch 90/100\n",
      "5548/5548 [==============================] - 2s 407us/step - loss: 0.4422 - acc: 0.8347 - val_loss: 1.9441 - val_acc: 0.5219\n",
      "Epoch 91/100\n",
      "5548/5548 [==============================] - 2s 407us/step - loss: 0.4392 - acc: 0.8416 - val_loss: 2.0618 - val_acc: 0.5175\n",
      "Epoch 92/100\n",
      "5548/5548 [==============================] - 2s 406us/step - loss: 0.4350 - acc: 0.8421 - val_loss: 2.0461 - val_acc: 0.5335\n",
      "Epoch 93/100\n",
      "5548/5548 [==============================] - 2s 404us/step - loss: 0.4129 - acc: 0.8477 - val_loss: 2.0886 - val_acc: 0.5292\n",
      "Epoch 94/100\n",
      "5548/5548 [==============================] - 2s 405us/step - loss: 0.4339 - acc: 0.8455 - val_loss: 2.1352 - val_acc: 0.5102\n",
      "Epoch 95/100\n",
      "5548/5548 [==============================] - 2s 405us/step - loss: 0.4280 - acc: 0.8401 - val_loss: 2.0435 - val_acc: 0.4956\n",
      "Epoch 96/100\n",
      "5548/5548 [==============================] - 2s 405us/step - loss: 0.4118 - acc: 0.8540 - val_loss: 2.0823 - val_acc: 0.5146\n",
      "Epoch 97/100\n",
      "5548/5548 [==============================] - 2s 407us/step - loss: 0.4249 - acc: 0.8479 - val_loss: 2.0155 - val_acc: 0.5219\n",
      "Epoch 98/100\n",
      "5548/5548 [==============================] - 2s 405us/step - loss: 0.4192 - acc: 0.8463 - val_loss: 1.9841 - val_acc: 0.5131\n",
      "Epoch 99/100\n",
      "5548/5548 [==============================] - 2s 408us/step - loss: 0.4154 - acc: 0.8513 - val_loss: 2.1013 - val_acc: 0.5160\n",
      "Epoch 100/100\n",
      "5548/5548 [==============================] - 2s 409us/step - loss: 0.4112 - acc: 0.8531 - val_loss: 2.1267 - val_acc: 0.5146\n"
     ]
    }
   ],
   "source": [
    "filter_nums = 256 \n",
    "def build_model():\n",
    "        inputs  = Input(shape=(maxLength, ), dtype='float64', name='inputs')    \n",
    "        embedding_layer = Embedding(input_vocab_size,EMBEDDING_DIM,weights=[embedding_matrix], input_length=maxLength, trainable=True,name = 'word_emb')(inputs)\n",
    "        embedding_layer = SpatialDropout1D(0.75)(embedding_layer)           \n",
    "        lstm_feature1 = CuDNNLSTM(filter_nums, return_sequences=True)(embedding_layer)\n",
    "        att1 = AttentionWithContext()(lstm_feature1)\n",
    "        att1 = Addition()(att1)\n",
    "        fc1 = Dropout(0.5)(Dense(256, name = 'dense_1')(att1))\n",
    "        output1 = Dense(len(classes),name=\"output1\", activation='softmax')(fc1)\n",
    "        model = Model(inputs=inputs, outputs=output1)\n",
    "        tensorBoardCallback = TensorBoard(log_dir='./logs', write_graph=True)\n",
    "        model.compile(loss = 'categorical_crossentropy', optimizer='adam', metrics=['accuracy'])\n",
    "        history = model.fit(X_train_encode, np.array(y_train_encode), validation_data = (X_val_encode,np.array(y_val_encode)) , batch_size=50, epochs=100,callbacks=[tensorBoardCallback])\n",
    "        return model\n",
    "model = build_model()"
   ]
  },
  {
   "cell_type": "markdown",
   "metadata": {
    "id": "0MmCoU4ksp67"
   },
   "source": [
    "## 2.Predict the results"
   ]
  },
  {
   "cell_type": "code",
   "execution_count": 21,
   "metadata": {
    "colab": {
     "base_uri": "https://localhost:8080/"
    },
    "id": "cQwJ75p_WdBJ",
    "outputId": "85c296d7-b40b-4f39-c206-ffc9c5234d2d"
   },
   "outputs": [
    {
     "name": "stdout",
     "output_type": "stream",
     "text": [
      "Enjoyment\n"
     ]
    }
   ],
   "source": [
    "X_test_encode = np.array(pad_sequences(input_tokenizer.texts_to_sequences(X_test), maxlen=maxLength,padding=\"post\"))\n",
    "test_length = len(X_test_encode)\n",
    "\n",
    "y_predict = []\n",
    "predicted = model.predict(X_test_encode)\n",
    "for predict in predicted:\n",
    "    index2, value = max(enumerate(predict), key=operator.itemgetter(1))\n",
    "    y_predict.append(classes[index2])\n",
    "    \n",
    "print(y_predict[0])"
   ]
  },
  {
   "cell_type": "code",
   "execution_count": 22,
   "metadata": {
    "colab": {
     "base_uri": "https://localhost:8080/"
    },
    "id": "CWnvBNeI0joN",
    "outputId": "212aec24-9fe8-44d4-d63d-c8f809ba0dfe",
    "scrolled": true
   },
   "outputs": [
    {
     "name": "stdout",
     "output_type": "stream",
     "text": [
      "['Enjoyment', 'Other', 'Disgust', 'Fear', 'Disgust', 'Sadness', 'Disgust', 'Enjoyment', 'Enjoyment', 'Sadness', 'Other', 'Enjoyment', 'Disgust', 'Enjoyment', 'Enjoyment', 'Sadness', 'Other', 'Enjoyment', 'Surprise', 'Enjoyment', 'Fear', 'Other', 'Enjoyment', 'Enjoyment', 'Enjoyment', 'Other', 'Sadness', 'Other', 'Enjoyment', 'Other', 'Surprise', 'Other', 'Enjoyment', 'Other', 'Other', 'Enjoyment', 'Surprise', 'Disgust', 'Disgust', 'Enjoyment', 'Anger', 'Other', 'Disgust', 'Enjoyment', 'Disgust', 'Enjoyment', 'Disgust', 'Sadness', 'Sadness', 'Anger', 'Surprise', 'Anger', 'Fear', 'Other', 'Sadness', 'Other', 'Fear', 'Fear', 'Disgust', 'Sadness', 'Disgust', 'Other', 'Other', 'Sadness', 'Enjoyment', 'Other', 'Enjoyment', 'Sadness', 'Enjoyment', 'Disgust', 'Disgust', 'Anger', 'Enjoyment', 'Fear', 'Sadness', 'Other', 'Disgust', 'Sadness', 'Other', 'Enjoyment', 'Fear', 'Surprise', 'Other', 'Sadness', 'Disgust', 'Other', 'Enjoyment', 'Anger', 'Other', 'Anger', 'Sadness', 'Other', 'Other', 'Other', 'Other', 'Enjoyment', 'Other', 'Anger', 'Enjoyment', 'Enjoyment', 'Sadness', 'Disgust', 'Anger', 'Disgust', 'Enjoyment', 'Enjoyment', 'Fear', 'Enjoyment', 'Other', 'Enjoyment', 'Sadness', 'Surprise', 'Disgust', 'Anger', 'Enjoyment', 'Other', 'Other', 'Anger', 'Enjoyment', 'Other', 'Sadness', 'Enjoyment', 'Enjoyment', 'Enjoyment', 'Enjoyment', 'Other', 'Enjoyment', 'Other', 'Other', 'Other', 'Enjoyment', 'Disgust', 'Fear', 'Sadness', 'Enjoyment', 'Other', 'Enjoyment', 'Anger', 'Other', 'Disgust', 'Enjoyment', 'Enjoyment', 'Other', 'Disgust', 'Enjoyment', 'Other', 'Enjoyment', 'Enjoyment', 'Disgust', 'Enjoyment', 'Other', 'Fear', 'Surprise', 'Enjoyment', 'Enjoyment', 'Sadness', 'Other', 'Enjoyment', 'Sadness', 'Sadness', 'Other', 'Fear', 'Enjoyment', 'Enjoyment', 'Enjoyment', 'Disgust', 'Other', 'Sadness', 'Enjoyment', 'Enjoyment', 'Enjoyment', 'Other', 'Other', 'Enjoyment', 'Other', 'Disgust', 'Other', 'Enjoyment', 'Sadness', 'Disgust', 'Disgust', 'Sadness', 'Sadness', 'Other', 'Other', 'Surprise', 'Sadness', 'Sadness', 'Sadness', 'Enjoyment', 'Other', 'Other', 'Enjoyment', 'Enjoyment', 'Enjoyment', 'Disgust', 'Other', 'Other', 'Enjoyment', 'Disgust', 'Anger', 'Sadness', 'Other', 'Sadness', 'Enjoyment', 'Other', 'Sadness', 'Sadness', 'Other', 'Fear', 'Enjoyment', 'Disgust', 'Enjoyment', 'Surprise', 'Disgust', 'Enjoyment', 'Enjoyment', 'Surprise', 'Disgust', 'Sadness', 'Enjoyment', 'Anger', 'Anger', 'Enjoyment', 'Other', 'Disgust', 'Fear', 'Fear', 'Enjoyment', 'Sadness', 'Other', 'Enjoyment', 'Other', 'Disgust', 'Fear', 'Fear', 'Sadness', 'Disgust', 'Disgust', 'Fear', 'Other', 'Enjoyment', 'Enjoyment', 'Sadness', 'Disgust', 'Enjoyment', 'Enjoyment', 'Other', 'Fear', 'Enjoyment', 'Other', 'Sadness', 'Surprise', 'Disgust', 'Enjoyment', 'Enjoyment', 'Enjoyment', 'Enjoyment', 'Fear', 'Other', 'Enjoyment', 'Disgust', 'Other', 'Enjoyment', 'Enjoyment', 'Sadness', 'Enjoyment', 'Anger', 'Enjoyment', 'Enjoyment', 'Disgust', 'Enjoyment', 'Fear', 'Enjoyment', 'Other', 'Enjoyment', 'Sadness', 'Sadness', 'Enjoyment', 'Other', 'Enjoyment', 'Disgust', 'Other', 'Anger', 'Enjoyment', 'Enjoyment', 'Sadness', 'Other', 'Disgust', 'Disgust', 'Other', 'Sadness', 'Anger', 'Enjoyment', 'Disgust', 'Enjoyment', 'Sadness', 'Enjoyment', 'Enjoyment', 'Surprise', 'Fear', 'Enjoyment', 'Disgust', 'Other', 'Sadness', 'Enjoyment', 'Enjoyment', 'Fear', 'Other', 'Anger', 'Disgust', 'Disgust', 'Sadness', 'Other', 'Disgust', 'Other', 'Disgust', 'Other', 'Anger', 'Enjoyment', 'Other', 'Fear', 'Enjoyment', 'Enjoyment', 'Fear', 'Fear', 'Fear', 'Other', 'Disgust', 'Other', 'Disgust', 'Sadness', 'Enjoyment', 'Other', 'Disgust', 'Other', 'Disgust', 'Sadness', 'Other', 'Surprise', 'Disgust', 'Sadness', 'Enjoyment', 'Enjoyment', 'Other', 'Disgust', 'Disgust', 'Surprise', 'Sadness', 'Disgust', 'Disgust', 'Enjoyment', 'Enjoyment', 'Other', 'Other', 'Sadness', 'Anger', 'Other', 'Other', 'Enjoyment', 'Enjoyment', 'Other', 'Disgust', 'Disgust', 'Other', 'Enjoyment', 'Other', 'Enjoyment', 'Sadness', 'Disgust', 'Sadness', 'Enjoyment', 'Fear', 'Enjoyment', 'Enjoyment', 'Disgust', 'Sadness', 'Fear', 'Enjoyment', 'Surprise', 'Sadness', 'Disgust', 'Disgust', 'Enjoyment', 'Enjoyment', 'Fear', 'Other', 'Sadness', 'Enjoyment', 'Enjoyment', 'Anger', 'Enjoyment', 'Sadness', 'Disgust', 'Enjoyment', 'Other', 'Other', 'Enjoyment', 'Fear', 'Enjoyment', 'Other', 'Sadness', 'Enjoyment', 'Disgust', 'Disgust', 'Other', 'Anger', 'Fear', 'Disgust', 'Anger', 'Surprise', 'Other', 'Surprise', 'Surprise', 'Surprise', 'Fear', 'Enjoyment', 'Enjoyment', 'Disgust', 'Other', 'Anger', 'Fear', 'Enjoyment', 'Anger', 'Other', 'Other', 'Anger', 'Surprise', 'Enjoyment', 'Sadness', 'Sadness', 'Other', 'Other', 'Sadness', 'Sadness', 'Fear', 'Surprise', 'Enjoyment', 'Disgust', 'Other', 'Other', 'Enjoyment', 'Anger', 'Other', 'Anger', 'Disgust', 'Anger', 'Enjoyment', 'Sadness', 'Enjoyment', 'Other', 'Sadness', 'Other', 'Anger', 'Enjoyment', 'Other', 'Other', 'Disgust', 'Disgust', 'Other', 'Enjoyment', 'Other', 'Anger', 'Disgust', 'Sadness', 'Enjoyment', 'Fear', 'Disgust', 'Enjoyment', 'Enjoyment', 'Other', 'Enjoyment', 'Anger', 'Disgust', 'Enjoyment', 'Disgust', 'Surprise', 'Other', 'Sadness', 'Fear', 'Enjoyment', 'Disgust', 'Anger', 'Disgust', 'Enjoyment', 'Other', 'Enjoyment', 'Disgust', 'Fear', 'Disgust', 'Anger', 'Enjoyment', 'Sadness', 'Enjoyment', 'Enjoyment', 'Other', 'Enjoyment', 'Other', 'Enjoyment', 'Sadness', 'Enjoyment', 'Enjoyment', 'Enjoyment', 'Other', 'Anger', 'Fear', 'Other', 'Enjoyment', 'Enjoyment', 'Enjoyment', 'Disgust', 'Enjoyment', 'Enjoyment', 'Sadness', 'Enjoyment', 'Other', 'Disgust', 'Sadness', 'Surprise', 'Enjoyment', 'Anger', 'Sadness', 'Enjoyment', 'Disgust', 'Enjoyment', 'Disgust', 'Sadness', 'Enjoyment', 'Sadness', 'Sadness', 'Sadness', 'Other', 'Enjoyment', 'Sadness', 'Enjoyment', 'Anger', 'Anger', 'Other', 'Surprise', 'Other', 'Fear', 'Sadness', 'Other', 'Other', 'Sadness', 'Disgust', 'Surprise', 'Disgust', 'Disgust', 'Sadness', 'Sadness', 'Surprise', 'Enjoyment', 'Enjoyment', 'Enjoyment', 'Other', 'Sadness', 'Other', 'Sadness', 'Sadness', 'Enjoyment', 'Disgust', 'Enjoyment', 'Sadness', 'Enjoyment', 'Enjoyment', 'Anger', 'Sadness', 'Anger', 'Anger', 'Disgust', 'Sadness', 'Disgust', 'Enjoyment', 'Anger', 'Enjoyment', 'Enjoyment', 'Sadness', 'Enjoyment', 'Enjoyment', 'Enjoyment', 'Enjoyment', 'Sadness', 'Sadness', 'Anger', 'Other', 'Sadness', 'Disgust', 'Sadness', 'Enjoyment', 'Disgust', 'Sadness', 'Other', 'Sadness', 'Anger', 'Disgust', 'Enjoyment', 'Sadness', 'Anger', 'Other', 'Other', 'Anger', 'Sadness', 'Other', 'Enjoyment', 'Sadness', 'Other', 'Disgust', 'Disgust', 'Enjoyment', 'Sadness', 'Enjoyment', 'Enjoyment', 'Enjoyment', 'Enjoyment', 'Surprise', 'Enjoyment', 'Sadness', 'Anger', 'Sadness', 'Enjoyment', 'Other', 'Disgust', 'Disgust', 'Anger', 'Enjoyment', 'Disgust', 'Disgust', 'Disgust', 'Disgust', 'Enjoyment', 'Other', 'Disgust', 'Other', 'Disgust', 'Fear', 'Anger', 'Enjoyment', 'Enjoyment', 'Anger', 'Disgust', 'Sadness', 'Disgust', 'Disgust', 'Enjoyment', 'Other', 'Sadness', 'Other', 'Enjoyment', 'Anger', 'Disgust', 'Enjoyment', 'Enjoyment', 'Surprise', 'Enjoyment', 'Sadness', 'Other', 'Fear', 'Surprise', 'Disgust', 'Enjoyment', 'Disgust', 'Other', 'Fear', 'Other', 'Other', 'Anger', 'Fear', 'Enjoyment', 'Fear', 'Sadness', 'Enjoyment', 'Enjoyment', 'Disgust', 'Enjoyment', 'Other', 'Surprise', 'Disgust', 'Disgust', 'Anger', 'Other', 'Other', 'Enjoyment', 'Other', 'Enjoyment', 'Other', 'Enjoyment', 'Other', 'Other', 'Disgust', 'Enjoyment', 'Other', 'Surprise']\n"
     ]
    }
   ],
   "source": [
    "print(y_predict)"
   ]
  },
  {
   "cell_type": "markdown",
   "metadata": {
    "id": "7VXZOPGcs9O_"
   },
   "source": [
    "## 3.Report the performance metrics (Accuracy, F1-score...)"
   ]
  },
  {
   "cell_type": "code",
   "execution_count": 23,
   "metadata": {
    "id": "8xe9WapyqCHG"
   },
   "outputs": [],
   "source": [
    "precision = precision_score(y_test, y_predict, average='weighted')\n",
    "recall = recall_score(y_test, y_predict, average='weighted')\n",
    "f1score = f1_score(y_test, y_predict, average='micro')\n",
    "accuracy = accuracy_score(y_test, y_predict)"
   ]
  },
  {
   "cell_type": "code",
   "execution_count": 24,
   "metadata": {
    "colab": {
     "base_uri": "https://localhost:8080/"
    },
    "id": "WoEymwgf0joR",
    "outputId": "836b56ae-e50b-4047-dceb-c757d3f4ce35"
   },
   "outputs": [
    {
     "name": "stdout",
     "output_type": "stream",
     "text": [
      "Result model LSTM\n",
      "Results of the models\n",
      "Precision of the models:  0.5090630148904083\n",
      "Recall of the models:  0.5007215007215007\n",
      "F1-Score of the models:  0.5007215007215007\n",
      "Accuracy of the models:  0.5007215007215007\n"
     ]
    }
   ],
   "source": [
    "print(\"Result model LSTM\")\n",
    "print(\"Results of the models\")\n",
    "print(\"Precision of the models: \", precision)\n",
    "print(\"Recall of the models: \", recall)\n",
    "print(\"F1-Score of the models: \", f1score)\n",
    "print(\"Accuracy of the models: \", accuracy)"
   ]
  },
  {
   "cell_type": "code",
   "execution_count": 25,
   "metadata": {
    "colab": {
     "base_uri": "https://localhost:8080/"
    },
    "id": "Z0wa6r8cqIT0",
    "outputId": "08ce6f71-b69d-47e2-edbb-ac7de1eb5c32"
   },
   "outputs": [
    {
     "name": "stdout",
     "output_type": "stream",
     "text": [
      "              precision    recall  f1-score   support\n",
      "\n",
      "       Anger       0.28      0.38      0.32        40\n",
      "     Disgust       0.52      0.45      0.48       132\n",
      "   Enjoyment       0.56      0.60      0.58       193\n",
      "        Fear       0.68      0.65      0.67        46\n",
      "       Other       0.38      0.43      0.40       129\n",
      "     Sadness       0.55      0.48      0.51       116\n",
      "    Surprise       0.55      0.46      0.50        37\n",
      "\n",
      "    accuracy                           0.50       693\n",
      "   macro avg       0.50      0.49      0.49       693\n",
      "weighted avg       0.51      0.50      0.50       693\n",
      "\n"
     ]
    }
   ],
   "source": [
    "print(classification_report(y_test,y_predict))"
   ]
  },
  {
   "cell_type": "markdown",
   "metadata": {
    "id": "u2pll3z0tLDW"
   },
   "source": [
    "# VII.Enter the demo program into 1 sentence"
   ]
  },
  {
   "cell_type": "code",
   "execution_count": 28,
   "metadata": {
    "id": "3WyndWU_0joU"
   },
   "outputs": [],
   "source": [
    "def demo(text):\n",
    "  demo_pre = clean_doc(text)\n",
    "  X_demo_encode = np.array(pad_sequences(input_tokenizer.texts_to_sequences([demo_pre]), maxlen=maxLength,padding=\"post\"))\n",
    "  predicted = model.predict(X_demo_encode)\n",
    "  index2, value = max(enumerate(predicted[0]), key=operator.itemgetter(1))\n",
    "  return classes[index2]"
   ]
  },
  {
   "cell_type": "code",
   "execution_count": 30,
   "metadata": {
    "colab": {
     "base_uri": "https://localhost:8080/",
     "height": 35
    },
    "id": "dVJw8Vi5thbF",
    "outputId": "72610d68-3ae8-4d29-a0a6-ec1af380f402"
   },
   "outputs": [
    {
     "data": {
      "application/vnd.google.colaboratory.intrinsic+json": {
       "type": "string"
      },
      "text/plain": [
       "'Sadness'"
      ]
     },
     "execution_count": 30,
     "metadata": {
      "tags": []
     },
     "output_type": "execute_result"
    }
   ],
   "source": [
    "demo('Hôm nay tôi buồn.')"
   ]
  },
  {
   "cell_type": "code",
   "execution_count": null,
   "metadata": {
    "id": "lcvYOIsbqrGV"
   },
   "outputs": [],
   "source": []
  }
 ],
 "metadata": {
  "accelerator": "GPU",
  "colab": {
   "collapsed_sections": [],
   "name": "Task2.ipynb",
   "provenance": [],
   "toc_visible": true
  },
  "kernelspec": {
   "display_name": "Python 3",
   "language": "python",
   "name": "python3"
  },
  "language_info": {
   "codemirror_mode": {
    "name": "ipython",
    "version": 3
   },
   "file_extension": ".py",
   "mimetype": "text/x-python",
   "name": "python",
   "nbconvert_exporter": "python",
   "pygments_lexer": "ipython3",
   "version": "3.8.3"
  }
 },
 "nbformat": 4,
 "nbformat_minor": 1
}
