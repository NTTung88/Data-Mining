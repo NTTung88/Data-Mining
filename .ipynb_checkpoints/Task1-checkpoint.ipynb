{
 "cells": [
  {
   "cell_type": "markdown",
   "metadata": {},
   "source": [
    "# Task 1"
   ]
  },
  {
   "cell_type": "code",
   "execution_count": 11,
   "metadata": {},
   "outputs": [],
   "source": [
    "# !pip install torch==1.5.0+cpu torchvision==0.6.0+cpu -f https://download.pytorch.org/whl/torch_stable.html\n",
    "# !pip install underthesea\n",
    "# !pip install selenium\n",
    "# !pip install selenium webdriver_manager\n",
    "# !pip install Cython\n",
    "# !pip install future scipy numpy scikit-learn\n",
    "# !pip install -U fasttext --no-cache-dir --no-deps --force-reinstall\n",
    "# !underthesea data\n",
    "# !pip install future scipy numpy scikit-learn==0.19.2 joblib"
   ]
  },
  {
   "cell_type": "code",
   "execution_count": 12,
   "metadata": {},
   "outputs": [],
   "source": [
    "import time\n",
    "from selenium.webdriver import Chrome\n",
    "from selenium.webdriver.common.by import By\n",
    "from selenium.webdriver.common.keys import Keys\n",
    "from selenium.webdriver.support.ui import WebDriverWait\n",
    "from selenium.webdriver.support import expected_conditions as EC\n",
    "from selenium import webdriver"
   ]
  },
  {
   "cell_type": "code",
   "execution_count": 13,
   "metadata": {},
   "outputs": [],
   "source": [
    "def CrawlingComment(url):\n",
    "    data=[]\n",
    "    options = webdriver.ChromeOptions()\n",
    "    options.binary_location = r\"C:\\Program Files\\Google\\Chrome Beta\\Application\\chrome.exe\"\n",
    "    with Chrome(executable_path=r'C:\\Program Files\\chromedriver.exe',chrome_options=options) as driver:\n",
    "        wait = WebDriverWait(driver,15)\n",
    "        driver.get(url) \n",
    "\n",
    "        for item in range(200): \n",
    "            wait.until(EC.visibility_of_element_located((By.TAG_NAME, \"body\"))).send_keys(Keys.END)\n",
    "#             time.sleep(2)\n",
    "\n",
    "        for comment in wait.until(EC.presence_of_all_elements_located((By.CSS_SELECTOR, \"#content-text\"))):\n",
    "            data.append(comment.text)\n",
    "    return data[:100]"
   ]
  },
  {
   "cell_type": "code",
   "execution_count": 17,
   "metadata": {},
   "outputs": [
    {
     "name": "stderr",
     "output_type": "stream",
     "text": [
      "<ipython-input-13-4f5a6206451b>:5: DeprecationWarning: use options instead of chrome_options\n",
      "  with Chrome(executable_path=r'C:\\Program Files\\chromedriver.exe',chrome_options=options) as driver:\n"
     ]
    }
   ],
   "source": [
    "data0 =CrawlingComment(\"https://www.youtube.com/watch?v=e-k62QaiR54\")\n",
    "data1 =CrawlingComment(\"https://www.youtube.com/watch?v=AVHlCCReBW4\")\n",
    "data2 =CrawlingComment(\"https://www.youtube.com/watch?v=XXVqxwOjQZw\")"
   ]
  },
  {
   "cell_type": "code",
   "execution_count": 22,
   "metadata": {},
   "outputs": [],
   "source": [
    "data =data0+data1+data2"
   ]
  },
  {
   "cell_type": "code",
   "execution_count": 29,
   "metadata": {},
   "outputs": [
    {
     "name": "stderr",
     "output_type": "stream",
     "text": [
      "C:\\Users\\email\\anaconda3\\lib\\site-packages\\sklearn\\feature_extraction\\text.py:17: DeprecationWarning: Using or importing the ABCs from 'collections' instead of from 'collections.abc' is deprecated since Python 3.3, and in 3.9 it will stop working\n",
      "  from collections import Mapping, defaultdict\n"
     ]
    }
   ],
   "source": [
    "from underthesea import word_tokenize\n",
    "for i in range(len(data)):\n",
    "    data[i]=word_tokenize(data[i],format=\"text\")"
   ]
  },
  {
   "cell_type": "code",
   "execution_count": 30,
   "metadata": {},
   "outputs": [
    {
     "data": {
      "text/html": [
       "<div>\n",
       "<style scoped>\n",
       "    .dataframe tbody tr th:only-of-type {\n",
       "        vertical-align: middle;\n",
       "    }\n",
       "\n",
       "    .dataframe tbody tr th {\n",
       "        vertical-align: top;\n",
       "    }\n",
       "\n",
       "    .dataframe thead th {\n",
       "        text-align: right;\n",
       "    }\n",
       "</style>\n",
       "<table border=\"1\" class=\"dataframe\">\n",
       "  <thead>\n",
       "    <tr style=\"text-align: right;\">\n",
       "      <th></th>\n",
       "      <th>comment</th>\n",
       "    </tr>\n",
       "  </thead>\n",
       "  <tbody>\n",
       "    <tr>\n",
       "      <th>0</th>\n",
       "      <td>3 : 05 Dân Chơi Xóm 5 : 35 Giàu Vì Bạn Sang Vì...</td>\n",
       "    </tr>\n",
       "    <tr>\n",
       "      <th>1</th>\n",
       "      <td>Bài \" Đây là rap việt \" vẫn hay nhất : &gt;&gt;</td>\n",
       "    </tr>\n",
       "    <tr>\n",
       "      <th>2</th>\n",
       "      <td>Bài mở_đầu luôn là đỉnh ...</td>\n",
       "    </tr>\n",
       "    <tr>\n",
       "      <th>3</th>\n",
       "      <td>thích t bài tình_yêu bận_bịu và bài giàu vì bạ...</td>\n",
       "    </tr>\n",
       "    <tr>\n",
       "      <th>4</th>\n",
       "      <td>Bắc Kim_Thang là bài hát mang dấu_ấn cực_kì đậ...</td>\n",
       "    </tr>\n",
       "  </tbody>\n",
       "</table>\n",
       "</div>"
      ],
      "text/plain": [
       "                                             comment\n",
       "0  3 : 05 Dân Chơi Xóm 5 : 35 Giàu Vì Bạn Sang Vì...\n",
       "1          Bài \" Đây là rap việt \" vẫn hay nhất : >>\n",
       "2                        Bài mở_đầu luôn là đỉnh ...\n",
       "3  thích t bài tình_yêu bận_bịu và bài giàu vì bạ...\n",
       "4  Bắc Kim_Thang là bài hát mang dấu_ấn cực_kì đậ..."
      ]
     },
     "execution_count": 30,
     "metadata": {},
     "output_type": "execute_result"
    }
   ],
   "source": [
    "import pandas as pd   \n",
    "df = pd.DataFrame(data, columns=['comment'])\n",
    "df.head()"
   ]
  },
  {
   "cell_type": "code",
   "execution_count": 32,
   "metadata": {},
   "outputs": [
    {
     "data": {
      "text/html": [
       "<div>\n",
       "<style scoped>\n",
       "    .dataframe tbody tr th:only-of-type {\n",
       "        vertical-align: middle;\n",
       "    }\n",
       "\n",
       "    .dataframe tbody tr th {\n",
       "        vertical-align: top;\n",
       "    }\n",
       "\n",
       "    .dataframe thead th {\n",
       "        text-align: right;\n",
       "    }\n",
       "</style>\n",
       "<table border=\"1\" class=\"dataframe\">\n",
       "  <thead>\n",
       "    <tr style=\"text-align: right;\">\n",
       "      <th></th>\n",
       "      <th>comment</th>\n",
       "    </tr>\n",
       "  </thead>\n",
       "  <tbody>\n",
       "    <tr>\n",
       "      <th>0</th>\n",
       "      <td>3 : 05 Dân Chơi Xóm 5 : 35 Giàu Vì Bạn Sang Vì...</td>\n",
       "    </tr>\n",
       "    <tr>\n",
       "      <th>1</th>\n",
       "      <td>Bài \" Đây là rap việt \" vẫn hay nhất : &gt;&gt;</td>\n",
       "    </tr>\n",
       "    <tr>\n",
       "      <th>2</th>\n",
       "      <td>Bài mở_đầu luôn là đỉnh ...</td>\n",
       "    </tr>\n",
       "    <tr>\n",
       "      <th>3</th>\n",
       "      <td>thích t bài tình_yêu bận_bịu và bài giàu vì bạ...</td>\n",
       "    </tr>\n",
       "    <tr>\n",
       "      <th>4</th>\n",
       "      <td>Bắc Kim_Thang là bài hát mang dấu_ấn cực_kì đậ...</td>\n",
       "    </tr>\n",
       "    <tr>\n",
       "      <th>...</th>\n",
       "      <td>...</td>\n",
       "    </tr>\n",
       "    <tr>\n",
       "      <th>295</th>\n",
       "      <td>Hay</td>\n",
       "    </tr>\n",
       "    <tr>\n",
       "      <th>296</th>\n",
       "      <td>hát hay quá</td>\n",
       "    </tr>\n",
       "    <tr>\n",
       "      <th>297</th>\n",
       "      <td>Ông erick có quả áo đúng là dị . Hát lép_vế hơ...</td>\n",
       "    </tr>\n",
       "    <tr>\n",
       "      <th>298</th>\n",
       "      <td>Mh ngét nhất con thu trang moi người để_ý xem ...</td>\n",
       "    </tr>\n",
       "    <tr>\n",
       "      <th>299</th>\n",
       "      <td>Chàng trai hát giống giọng hồ ngọc_Hà như hát ...</td>\n",
       "    </tr>\n",
       "  </tbody>\n",
       "</table>\n",
       "<p>300 rows × 1 columns</p>\n",
       "</div>"
      ],
      "text/plain": [
       "                                               comment\n",
       "0    3 : 05 Dân Chơi Xóm 5 : 35 Giàu Vì Bạn Sang Vì...\n",
       "1            Bài \" Đây là rap việt \" vẫn hay nhất : >>\n",
       "2                          Bài mở_đầu luôn là đỉnh ...\n",
       "3    thích t bài tình_yêu bận_bịu và bài giàu vì bạ...\n",
       "4    Bắc Kim_Thang là bài hát mang dấu_ấn cực_kì đậ...\n",
       "..                                                 ...\n",
       "295                                                Hay\n",
       "296                                        hát hay quá\n",
       "297  Ông erick có quả áo đúng là dị . Hát lép_vế hơ...\n",
       "298  Mh ngét nhất con thu trang moi người để_ý xem ...\n",
       "299  Chàng trai hát giống giọng hồ ngọc_Hà như hát ...\n",
       "\n",
       "[300 rows x 1 columns]"
      ]
     },
     "execution_count": 32,
     "metadata": {},
     "output_type": "execute_result"
    }
   ],
   "source": [
    "df"
   ]
  },
  {
   "cell_type": "code",
   "execution_count": 33,
   "metadata": {},
   "outputs": [],
   "source": [
    "df.to_csv('comments',index=False)"
   ]
  },
  {
   "cell_type": "code",
   "execution_count": 1,
   "metadata": {},
   "outputs": [],
   "source": [
    "import pandas as pd  \n",
    "data=pd.read_csv('comments_Task1.csv',encoding='utf-8') "
   ]
  },
  {
   "cell_type": "code",
   "execution_count": 2,
   "metadata": {},
   "outputs": [
    {
     "data": {
      "text/html": [
       "<div>\n",
       "<style scoped>\n",
       "    .dataframe tbody tr th:only-of-type {\n",
       "        vertical-align: middle;\n",
       "    }\n",
       "\n",
       "    .dataframe tbody tr th {\n",
       "        vertical-align: top;\n",
       "    }\n",
       "\n",
       "    .dataframe thead th {\n",
       "        text-align: right;\n",
       "    }\n",
       "</style>\n",
       "<table border=\"1\" class=\"dataframe\">\n",
       "  <thead>\n",
       "    <tr style=\"text-align: right;\">\n",
       "      <th></th>\n",
       "      <th>ID</th>\n",
       "      <th>Sentence</th>\n",
       "      <th>Emotion</th>\n",
       "    </tr>\n",
       "  </thead>\n",
       "  <tbody>\n",
       "    <tr>\n",
       "      <th>0</th>\n",
       "      <td>0</td>\n",
       "      <td>3 : 05 Dân Chơi Xóm 5 : 35 Giàu Vì Bạn Sang Vì...</td>\n",
       "      <td>Sadness</td>\n",
       "    </tr>\n",
       "    <tr>\n",
       "      <th>1</th>\n",
       "      <td>1</td>\n",
       "      <td>Bài \" Đây là rap việt \" vẫn hay nhất : &gt;&gt;</td>\n",
       "      <td>Disgust</td>\n",
       "    </tr>\n",
       "    <tr>\n",
       "      <th>2</th>\n",
       "      <td>2</td>\n",
       "      <td>Bắc Kim_Thang là bài hát mang dấu_ấn cực_kì đậ...</td>\n",
       "      <td>Disgust</td>\n",
       "    </tr>\n",
       "    <tr>\n",
       "      <th>3</th>\n",
       "      <td>3</td>\n",
       "      <td>thích t bài tình_yêu bận_bịu và bài giàu vì bạ...</td>\n",
       "      <td>Sadness</td>\n",
       "    </tr>\n",
       "    <tr>\n",
       "      <th>4</th>\n",
       "      <td>4</td>\n",
       "      <td>Bài mở_đầu luôn là đỉnh ...</td>\n",
       "      <td>Surprise</td>\n",
       "    </tr>\n",
       "    <tr>\n",
       "      <th>...</th>\n",
       "      <td>...</td>\n",
       "      <td>...</td>\n",
       "      <td>...</td>\n",
       "    </tr>\n",
       "    <tr>\n",
       "      <th>416</th>\n",
       "      <td>416</td>\n",
       "      <td>Bài đầu chán mà sao nhiều người khen hay ? : l</td>\n",
       "      <td>Disgust</td>\n",
       "    </tr>\n",
       "    <tr>\n",
       "      <th>417</th>\n",
       "      <td>417</td>\n",
       "      <td>thật_sự là t đéo thể hiểu nổi cái loại rap kiể...</td>\n",
       "      <td>Disgust</td>\n",
       "    </tr>\n",
       "    <tr>\n",
       "      <th>418</th>\n",
       "      <td>418</td>\n",
       "      <td>Nghe ngang như cua , chả biết hay chỗ nào ._Bà...</td>\n",
       "      <td>Disgust</td>\n",
       "    </tr>\n",
       "    <tr>\n",
       "      <th>419</th>\n",
       "      <td>419</td>\n",
       "      <td>nhạc xàm</td>\n",
       "      <td>Disgust</td>\n",
       "    </tr>\n",
       "    <tr>\n",
       "      <th>420</th>\n",
       "      <td>420</td>\n",
       "      <td>Nghe này chán thật_sự ko hay 😩 😩 😩 😩</td>\n",
       "      <td>Sadness</td>\n",
       "    </tr>\n",
       "  </tbody>\n",
       "</table>\n",
       "<p>421 rows × 3 columns</p>\n",
       "</div>"
      ],
      "text/plain": [
       "      ID                                           Sentence   Emotion\n",
       "0      0  3 : 05 Dân Chơi Xóm 5 : 35 Giàu Vì Bạn Sang Vì...   Sadness\n",
       "1      1          Bài \" Đây là rap việt \" vẫn hay nhất : >>   Disgust\n",
       "2      2  Bắc Kim_Thang là bài hát mang dấu_ấn cực_kì đậ...   Disgust\n",
       "3      3  thích t bài tình_yêu bận_bịu và bài giàu vì bạ...   Sadness\n",
       "4      4                        Bài mở_đầu luôn là đỉnh ...  Surprise\n",
       "..   ...                                                ...       ...\n",
       "416  416     Bài đầu chán mà sao nhiều người khen hay ? : l   Disgust\n",
       "417  417  thật_sự là t đéo thể hiểu nổi cái loại rap kiể...   Disgust\n",
       "418  418  Nghe ngang như cua , chả biết hay chỗ nào ._Bà...   Disgust\n",
       "419  419                                           nhạc xàm   Disgust\n",
       "420  420               Nghe này chán thật_sự ko hay 😩 😩 😩 😩   Sadness\n",
       "\n",
       "[421 rows x 3 columns]"
      ]
     },
     "execution_count": 2,
     "metadata": {},
     "output_type": "execute_result"
    }
   ],
   "source": [
    "data"
   ]
  },
  {
   "cell_type": "code",
   "execution_count": null,
   "metadata": {},
   "outputs": [],
   "source": []
  }
 ],
 "metadata": {
  "kernelspec": {
   "display_name": "Python 3",
   "language": "python",
   "name": "python3"
  },
  "language_info": {
   "codemirror_mode": {
    "name": "ipython",
    "version": 3
   },
   "file_extension": ".py",
   "mimetype": "text/x-python",
   "name": "python",
   "nbconvert_exporter": "python",
   "pygments_lexer": "ipython3",
   "version": "3.8.3"
  }
 },
 "nbformat": 4,
 "nbformat_minor": 4
}
